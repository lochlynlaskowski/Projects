{
 "cells": [
  {
   "cell_type": "code",
   "execution_count": 328,
   "id": "d29bb63d",
   "metadata": {},
   "outputs": [
    {
     "data": {
      "text/html": [
       "<div>\n",
       "<style scoped>\n",
       "    .dataframe tbody tr th:only-of-type {\n",
       "        vertical-align: middle;\n",
       "    }\n",
       "\n",
       "    .dataframe tbody tr th {\n",
       "        vertical-align: top;\n",
       "    }\n",
       "\n",
       "    .dataframe thead th {\n",
       "        text-align: right;\n",
       "    }\n",
       "</style>\n",
       "<table border=\"1\" class=\"dataframe\">\n",
       "  <thead>\n",
       "    <tr style=\"text-align: right;\">\n",
       "      <th></th>\n",
       "      <th>customer_id</th>\n",
       "      <th>gender</th>\n",
       "      <th>is_senior_citizen</th>\n",
       "      <th>partner</th>\n",
       "      <th>dependents</th>\n",
       "      <th>phone_service</th>\n",
       "      <th>internet_service</th>\n",
       "      <th>contract_type</th>\n",
       "      <th>payment_type</th>\n",
       "      <th>monthly_charges</th>\n",
       "      <th>total_charges</th>\n",
       "      <th>churn</th>\n",
       "      <th>tenure</th>\n",
       "    </tr>\n",
       "  </thead>\n",
       "  <tbody>\n",
       "    <tr>\n",
       "      <th>0</th>\n",
       "      <td>0002-ORFBO</td>\n",
       "      <td>Female</td>\n",
       "      <td>0</td>\n",
       "      <td>Yes</td>\n",
       "      <td>Yes</td>\n",
       "      <td>1</td>\n",
       "      <td>1</td>\n",
       "      <td>1</td>\n",
       "      <td>Mailed check</td>\n",
       "      <td>65.6</td>\n",
       "      <td>593.30</td>\n",
       "      <td>No</td>\n",
       "      <td>9.0</td>\n",
       "    </tr>\n",
       "    <tr>\n",
       "      <th>1</th>\n",
       "      <td>0003-MKNFE</td>\n",
       "      <td>Male</td>\n",
       "      <td>0</td>\n",
       "      <td>No</td>\n",
       "      <td>No</td>\n",
       "      <td>2</td>\n",
       "      <td>1</td>\n",
       "      <td>0</td>\n",
       "      <td>Mailed check</td>\n",
       "      <td>59.9</td>\n",
       "      <td>542.40</td>\n",
       "      <td>No</td>\n",
       "      <td>9.1</td>\n",
       "    </tr>\n",
       "    <tr>\n",
       "      <th>2</th>\n",
       "      <td>0004-TLHLJ</td>\n",
       "      <td>Male</td>\n",
       "      <td>0</td>\n",
       "      <td>No</td>\n",
       "      <td>No</td>\n",
       "      <td>1</td>\n",
       "      <td>2</td>\n",
       "      <td>0</td>\n",
       "      <td>Electronic check</td>\n",
       "      <td>73.9</td>\n",
       "      <td>280.85</td>\n",
       "      <td>Yes</td>\n",
       "      <td>3.8</td>\n",
       "    </tr>\n",
       "    <tr>\n",
       "      <th>3</th>\n",
       "      <td>0011-IGKFF</td>\n",
       "      <td>Male</td>\n",
       "      <td>1</td>\n",
       "      <td>Yes</td>\n",
       "      <td>No</td>\n",
       "      <td>1</td>\n",
       "      <td>2</td>\n",
       "      <td>0</td>\n",
       "      <td>Electronic check</td>\n",
       "      <td>98.0</td>\n",
       "      <td>1237.85</td>\n",
       "      <td>Yes</td>\n",
       "      <td>12.6</td>\n",
       "    </tr>\n",
       "    <tr>\n",
       "      <th>4</th>\n",
       "      <td>0013-EXCHZ</td>\n",
       "      <td>Female</td>\n",
       "      <td>1</td>\n",
       "      <td>Yes</td>\n",
       "      <td>No</td>\n",
       "      <td>1</td>\n",
       "      <td>2</td>\n",
       "      <td>0</td>\n",
       "      <td>Mailed check</td>\n",
       "      <td>83.9</td>\n",
       "      <td>267.40</td>\n",
       "      <td>Yes</td>\n",
       "      <td>3.2</td>\n",
       "    </tr>\n",
       "  </tbody>\n",
       "</table>\n",
       "</div>"
      ],
      "text/plain": [
       "  customer_id  gender  is_senior_citizen partner dependents  phone_service  \\\n",
       "0  0002-ORFBO  Female                  0     Yes        Yes              1   \n",
       "1  0003-MKNFE    Male                  0      No         No              2   \n",
       "2  0004-TLHLJ    Male                  0      No         No              1   \n",
       "3  0011-IGKFF    Male                  1     Yes         No              1   \n",
       "4  0013-EXCHZ  Female                  1     Yes         No              1   \n",
       "\n",
       "   internet_service  contract_type      payment_type  monthly_charges  \\\n",
       "0                 1              1      Mailed check             65.6   \n",
       "1                 1              0      Mailed check             59.9   \n",
       "2                 2              0  Electronic check             73.9   \n",
       "3                 2              0  Electronic check             98.0   \n",
       "4                 2              0      Mailed check             83.9   \n",
       "\n",
       "   total_charges churn  tenure  \n",
       "0         593.30    No     9.0  \n",
       "1         542.40    No     9.1  \n",
       "2         280.85   Yes     3.8  \n",
       "3        1237.85   Yes    12.6  \n",
       "4         267.40   Yes     3.2  "
      ]
     },
     "execution_count": 328,
     "metadata": {},
     "output_type": "execute_result"
    }
   ],
   "source": [
    "import pandas as pd\n",
    "import seaborn as sns\n",
    "import matplotlib.pyplot as plt\n",
    "import numpy as np\n",
    "\n",
    "telco = pd.read_csv(\"telco.csv\")\n",
    "\n",
    "telco.head()\n"
   ]
  },
  {
   "cell_type": "code",
   "execution_count": null,
   "id": "c80252d5",
   "metadata": {},
   "outputs": [],
   "source": [
    "\n"
   ]
  },
  {
   "cell_type": "markdown",
   "id": "702c4996",
   "metadata": {},
   "source": [
    "### Step 1: Define your goal. What's the impact? Who benefits? Why does this matter?\n",
    "    \n",
    "Goal: identify key drivers for customer churn\n",
    "\n",
    "Impact: Churn costs money; losing customers reduces revenue and acquiring new customers costs more than retaining customers.\n",
    "\n",
    "Industry standard: Telecommunications companies average about 2.5 percent monthly in churned customers. New customers cost, on average $315 to acquire.\n",
    "\n",
    "Who benefits: The company will be able to increase overall profits by reducing churn, which can also benefit the customer by allowing additional promotions\n",
    "\n",
    "https://stlpartners.com/research/telco-economics-mobile-churn-rates-and-reduction-strategies/\n",
    "\n",
    "Target variable: churn\n",
    "\n",
    "Important variables:\n",
    "dependents\n",
    "partner\n",
    "is_senior_citizen\n",
    "payment_type\n",
    "contract_type\n",
    "tenure\n",
    "monthly_charges\n",
    "\n",
    "\n",
    "MVP:\n",
    "    first glance look at:\n",
    "    costs of churn\n",
    "    drivers of churn\n",
    "    incentives to reduce churn\n",
    "\n",
    "Deliverable:\n",
    "3 minute presentation on MVP\n",
    "\n",
    "    "
   ]
  },
  {
   "cell_type": "code",
   "execution_count": 49,
   "id": "2f608485",
   "metadata": {},
   "outputs": [
    {
     "data": {
      "text/plain": [
       "<AxesSubplot:>"
      ]
     },
     "execution_count": 49,
     "metadata": {},
     "output_type": "execute_result"
    },
    {
     "data": {
      "image/png": "[encoded data removed]",
      "text/plain": [
       "<Figure size 432x288 with 1 Axes>"
      ]
     },
     "metadata": {
      "needs_background": "light"
     },
     "output_type": "display_data"
    }
   ],
   "source": [
    "telco.churn.hist()"
   ]
  },
  {
   "cell_type": "code",
   "execution_count": 47,
   "id": "e552380b",
   "metadata": {
    "scrolled": true
   },
   "outputs": [
    {
     "data": {
      "text/plain": [
       "No     5179\n",
       "Yes    1870\n",
       "Name: churn, dtype: int64"
      ]
     },
     "execution_count": 47,
     "metadata": {},
     "output_type": "execute_result"
    }
   ],
   "source": [
    "telco.churn.value_counts()"
   ]
  },
  {
   "cell_type": "code",
   "execution_count": 50,
   "id": "aeb4c2ee",
   "metadata": {},
   "outputs": [
    {
     "data": {
      "text/plain": [
       "26.528585614980848"
      ]
     },
     "execution_count": 50,
     "metadata": {},
     "output_type": "execute_result"
    }
   ],
   "source": [
    "telco[telco.churn == \"Yes\"].shape[0] / telco.shape[0] * 100\n",
    "# the percentage of customers that churn is well above the monthly standard of 2.5%"
   ]
  },
  {
   "cell_type": "code",
   "execution_count": 64,
   "id": "cd5abdb0",
   "metadata": {},
   "outputs": [
    {
     "name": "stdout",
     "output_type": "stream",
     "text": [
      "The monthly cost of customers that churn is:  $ 139161\n"
     ]
    }
   ],
   "source": [
    "# determine monthly lost profits for customers that churn\n",
    "monthly_cost = telco[telco.churn == 'Yes'].monthly_charges.sum()\n",
    "print(\"The monthly cost of customers that churn is: \", '$', round(monthly_cost))"
   ]
  },
  {
   "cell_type": "code",
   "execution_count": 63,
   "id": "22e745fc",
   "metadata": {},
   "outputs": [
    {
     "name": "stdout",
     "output_type": "stream",
     "text": [
      "The annual cost of customers that churn is:  $ 1669936\n"
     ]
    }
   ],
   "source": [
    "# determine annual lost profits for customers that churn\n",
    "annual_cost = telco[telco.churn == 'Yes'].monthly_charges.sum() * 12\n",
    "print(\"The annual cost of customers that churn is: \", '$', round(annual_cost))"
   ]
  },
  {
   "cell_type": "code",
   "execution_count": 77,
   "id": "6a1ff516",
   "metadata": {},
   "outputs": [
    {
     "name": "stdout",
     "output_type": "stream",
     "text": [
      "The monthly cost of acquiring new customers to replace those that churn is:  $ 589050\n"
     ]
    }
   ],
   "source": [
    "# determine cost of replacing churned customers (acquisition cost is $315 per new customer)\n",
    "\n",
    "monthly_acquisition_cost = len(telco[telco.churn == 'Yes']) * 315\n",
    "print(\"The monthly cost of acquiring new customers to replace those that churn is: \", '$', round(monthly_acquisition_cost))\n"
   ]
  },
  {
   "cell_type": "code",
   "execution_count": 346,
   "id": "1e368745",
   "metadata": {},
   "outputs": [
    {
     "name": "stdout",
     "output_type": "stream",
     "text": [
      "The annual cost of acquiring new customers to replace those that churn is:  $ 7068600\n"
     ]
    }
   ],
   "source": [
    "annual_acquisition_cost = len(telco[telco.churn == 'Yes']) * 315 * 12\n",
    "print(\"The annual cost of acquiring new customers to replace those that churn is: \", '$', round(annual_acquisition_cost))"
   ]
  },
  {
   "cell_type": "code",
   "execution_count": 82,
   "id": "5652175c",
   "metadata": {},
   "outputs": [
    {
     "name": "stdout",
     "output_type": "stream",
     "text": [
      "$ 728211\n"
     ]
    }
   ],
   "source": [
    "# on a monthly basis, what would churning customers and acquiring their replacements cost?\n",
    "print('$', (round(monthly_cost + monthly_acquisition_cost)))"
   ]
  },
  {
   "cell_type": "code",
   "execution_count": null,
   "id": "8d336447",
   "metadata": {},
   "outputs": [],
   "source": [
    "#cost of incentives\n"
   ]
  },
  {
   "cell_type": "markdown",
   "id": "258cd626",
   "metadata": {},
   "source": [
    "### Step 2: Get to know your data at a high level\n"
   ]
  },
  {
   "cell_type": "code",
   "execution_count": 4,
   "id": "1585ba05",
   "metadata": {},
   "outputs": [
    {
     "name": "stdout",
     "output_type": "stream",
     "text": [
      "<class 'pandas.core.frame.DataFrame'>\n",
      "RangeIndex: 7049 entries, 0 to 7048\n",
      "Data columns (total 13 columns):\n",
      " #   Column             Non-Null Count  Dtype  \n",
      "---  ------             --------------  -----  \n",
      " 0   customer_id        7049 non-null   object \n",
      " 1   gender             7049 non-null   object \n",
      " 2   is_senior_citizen  7049 non-null   int64  \n",
      " 3   partner            7049 non-null   object \n",
      " 4   dependents         7049 non-null   object \n",
      " 5   phone_service      7049 non-null   int64  \n",
      " 6   internet_service   7049 non-null   int64  \n",
      " 7   contract_type      7049 non-null   int64  \n",
      " 8   payment_type       7049 non-null   object \n",
      " 9   monthly_charges    7049 non-null   float64\n",
      " 10  total_charges      7038 non-null   float64\n",
      " 11  churn              7049 non-null   object \n",
      " 12  tenure             7049 non-null   float64\n",
      "dtypes: float64(3), int64(4), object(6)\n",
      "memory usage: 716.0+ KB\n"
     ]
    }
   ],
   "source": [
    "telco.info()"
   ]
  },
  {
   "cell_type": "code",
   "execution_count": 356,
   "id": "f44ddcf9",
   "metadata": {},
   "outputs": [
    {
     "data": {
      "text/html": [
       "<div>\n",
       "<style scoped>\n",
       "    .dataframe tbody tr th:only-of-type {\n",
       "        vertical-align: middle;\n",
       "    }\n",
       "\n",
       "    .dataframe tbody tr th {\n",
       "        vertical-align: top;\n",
       "    }\n",
       "\n",
       "    .dataframe thead th {\n",
       "        text-align: right;\n",
       "    }\n",
       "</style>\n",
       "<table border=\"1\" class=\"dataframe\">\n",
       "  <thead>\n",
       "    <tr style=\"text-align: right;\">\n",
       "      <th></th>\n",
       "      <th>customer_id</th>\n",
       "      <th>gender</th>\n",
       "      <th>is_senior_citizen</th>\n",
       "      <th>partner</th>\n",
       "      <th>dependents</th>\n",
       "      <th>phone_service</th>\n",
       "      <th>internet_service</th>\n",
       "      <th>contract_type</th>\n",
       "      <th>payment_type</th>\n",
       "      <th>monthly_charges</th>\n",
       "      <th>total_charges</th>\n",
       "      <th>churn</th>\n",
       "      <th>tenure</th>\n",
       "      <th>autopay</th>\n",
       "    </tr>\n",
       "  </thead>\n",
       "  <tbody>\n",
       "    <tr>\n",
       "      <th>0</th>\n",
       "      <td>0002-ORFBO</td>\n",
       "      <td>Female</td>\n",
       "      <td>No</td>\n",
       "      <td>Yes</td>\n",
       "      <td>Yes</td>\n",
       "      <td>1</td>\n",
       "      <td>1</td>\n",
       "      <td>1</td>\n",
       "      <td>Mailed check</td>\n",
       "      <td>65.6</td>\n",
       "      <td>593.30</td>\n",
       "      <td>No</td>\n",
       "      <td>9.0</td>\n",
       "      <td>No</td>\n",
       "    </tr>\n",
       "    <tr>\n",
       "      <th>1</th>\n",
       "      <td>0003-MKNFE</td>\n",
       "      <td>Male</td>\n",
       "      <td>No</td>\n",
       "      <td>No</td>\n",
       "      <td>No</td>\n",
       "      <td>2</td>\n",
       "      <td>1</td>\n",
       "      <td>0</td>\n",
       "      <td>Mailed check</td>\n",
       "      <td>59.9</td>\n",
       "      <td>542.40</td>\n",
       "      <td>No</td>\n",
       "      <td>9.1</td>\n",
       "      <td>No</td>\n",
       "    </tr>\n",
       "    <tr>\n",
       "      <th>2</th>\n",
       "      <td>0004-TLHLJ</td>\n",
       "      <td>Male</td>\n",
       "      <td>No</td>\n",
       "      <td>No</td>\n",
       "      <td>No</td>\n",
       "      <td>1</td>\n",
       "      <td>2</td>\n",
       "      <td>0</td>\n",
       "      <td>Electronic check</td>\n",
       "      <td>73.9</td>\n",
       "      <td>280.85</td>\n",
       "      <td>Yes</td>\n",
       "      <td>3.8</td>\n",
       "      <td>No</td>\n",
       "    </tr>\n",
       "    <tr>\n",
       "      <th>3</th>\n",
       "      <td>0011-IGKFF</td>\n",
       "      <td>Male</td>\n",
       "      <td>Yes</td>\n",
       "      <td>Yes</td>\n",
       "      <td>No</td>\n",
       "      <td>1</td>\n",
       "      <td>2</td>\n",
       "      <td>0</td>\n",
       "      <td>Electronic check</td>\n",
       "      <td>98.0</td>\n",
       "      <td>1237.85</td>\n",
       "      <td>Yes</td>\n",
       "      <td>12.6</td>\n",
       "      <td>No</td>\n",
       "    </tr>\n",
       "    <tr>\n",
       "      <th>4</th>\n",
       "      <td>0013-EXCHZ</td>\n",
       "      <td>Female</td>\n",
       "      <td>Yes</td>\n",
       "      <td>Yes</td>\n",
       "      <td>No</td>\n",
       "      <td>1</td>\n",
       "      <td>2</td>\n",
       "      <td>0</td>\n",
       "      <td>Mailed check</td>\n",
       "      <td>83.9</td>\n",
       "      <td>267.40</td>\n",
       "      <td>Yes</td>\n",
       "      <td>3.2</td>\n",
       "      <td>No</td>\n",
       "    </tr>\n",
       "  </tbody>\n",
       "</table>\n",
       "</div>"
      ],
      "text/plain": [
       "  customer_id  gender is_senior_citizen partner dependents  phone_service  \\\n",
       "0  0002-ORFBO  Female                No     Yes        Yes              1   \n",
       "1  0003-MKNFE    Male                No      No         No              2   \n",
       "2  0004-TLHLJ    Male                No      No         No              1   \n",
       "3  0011-IGKFF    Male               Yes     Yes         No              1   \n",
       "4  0013-EXCHZ  Female               Yes     Yes         No              1   \n",
       "\n",
       "   internet_service  contract_type      payment_type  monthly_charges  \\\n",
       "0                 1              1      Mailed check             65.6   \n",
       "1                 1              0      Mailed check             59.9   \n",
       "2                 2              0  Electronic check             73.9   \n",
       "3                 2              0  Electronic check             98.0   \n",
       "4                 2              0      Mailed check             83.9   \n",
       "\n",
       "   total_charges churn  tenure autopay  \n",
       "0         593.30    No     9.0      No  \n",
       "1         542.40    No     9.1      No  \n",
       "2         280.85   Yes     3.8      No  \n",
       "3        1237.85   Yes    12.6      No  \n",
       "4         267.40   Yes     3.2      No  "
      ]
     },
     "execution_count": 356,
     "metadata": {},
     "output_type": "execute_result"
    }
   ],
   "source": [
    "# data cleanup\n",
    "# total_charges seems to have some null values\n",
    "telco['is_senior_citizen'] = telco['is_senior_citizen'].replace([0, 1],['No', 'Yes']).astype('object')\n",
    "# changing senior citizen to be more like partner and dependents columns\n",
    "\n",
    "telco.head()"
   ]
  },
  {
   "cell_type": "code",
   "execution_count": 40,
   "id": "613b4060",
   "metadata": {},
   "outputs": [
    {
     "data": {
      "text/html": [
       "<div>\n",
       "<style scoped>\n",
       "    .dataframe tbody tr th:only-of-type {\n",
       "        vertical-align: middle;\n",
       "    }\n",
       "\n",
       "    .dataframe tbody tr th {\n",
       "        vertical-align: top;\n",
       "    }\n",
       "\n",
       "    .dataframe thead th {\n",
       "        text-align: right;\n",
       "    }\n",
       "</style>\n",
       "<table border=\"1\" class=\"dataframe\">\n",
       "  <thead>\n",
       "    <tr style=\"text-align: right;\">\n",
       "      <th></th>\n",
       "      <th>customer_id</th>\n",
       "      <th>gender</th>\n",
       "      <th>is_senior_citizen</th>\n",
       "      <th>partner</th>\n",
       "      <th>dependents</th>\n",
       "      <th>phone_service</th>\n",
       "      <th>internet_service</th>\n",
       "      <th>contract_type</th>\n",
       "      <th>payment_type</th>\n",
       "      <th>monthly_charges</th>\n",
       "      <th>total_charges</th>\n",
       "      <th>churn</th>\n",
       "      <th>tenure</th>\n",
       "    </tr>\n",
       "  </thead>\n",
       "  <tbody>\n",
       "    <tr>\n",
       "      <th>0</th>\n",
       "      <td>0002-ORFBO</td>\n",
       "      <td>Female</td>\n",
       "      <td>No</td>\n",
       "      <td>Yes</td>\n",
       "      <td>Yes</td>\n",
       "      <td>1</td>\n",
       "      <td>1</td>\n",
       "      <td>1 year</td>\n",
       "      <td>Mailed check</td>\n",
       "      <td>65.6</td>\n",
       "      <td>593.30</td>\n",
       "      <td>No</td>\n",
       "      <td>9.0</td>\n",
       "    </tr>\n",
       "    <tr>\n",
       "      <th>1</th>\n",
       "      <td>0003-MKNFE</td>\n",
       "      <td>Male</td>\n",
       "      <td>No</td>\n",
       "      <td>No</td>\n",
       "      <td>No</td>\n",
       "      <td>2</td>\n",
       "      <td>1</td>\n",
       "      <td>month-to-month</td>\n",
       "      <td>Mailed check</td>\n",
       "      <td>59.9</td>\n",
       "      <td>542.40</td>\n",
       "      <td>No</td>\n",
       "      <td>9.1</td>\n",
       "    </tr>\n",
       "    <tr>\n",
       "      <th>2</th>\n",
       "      <td>0004-TLHLJ</td>\n",
       "      <td>Male</td>\n",
       "      <td>No</td>\n",
       "      <td>No</td>\n",
       "      <td>No</td>\n",
       "      <td>1</td>\n",
       "      <td>2</td>\n",
       "      <td>month-to-month</td>\n",
       "      <td>Electronic check</td>\n",
       "      <td>73.9</td>\n",
       "      <td>280.85</td>\n",
       "      <td>Yes</td>\n",
       "      <td>3.8</td>\n",
       "    </tr>\n",
       "    <tr>\n",
       "      <th>3</th>\n",
       "      <td>0011-IGKFF</td>\n",
       "      <td>Male</td>\n",
       "      <td>Yes</td>\n",
       "      <td>Yes</td>\n",
       "      <td>No</td>\n",
       "      <td>1</td>\n",
       "      <td>2</td>\n",
       "      <td>month-to-month</td>\n",
       "      <td>Electronic check</td>\n",
       "      <td>98.0</td>\n",
       "      <td>1237.85</td>\n",
       "      <td>Yes</td>\n",
       "      <td>12.6</td>\n",
       "    </tr>\n",
       "    <tr>\n",
       "      <th>4</th>\n",
       "      <td>0013-EXCHZ</td>\n",
       "      <td>Female</td>\n",
       "      <td>Yes</td>\n",
       "      <td>Yes</td>\n",
       "      <td>No</td>\n",
       "      <td>1</td>\n",
       "      <td>2</td>\n",
       "      <td>month-to-month</td>\n",
       "      <td>Mailed check</td>\n",
       "      <td>83.9</td>\n",
       "      <td>267.40</td>\n",
       "      <td>Yes</td>\n",
       "      <td>3.2</td>\n",
       "    </tr>\n",
       "  </tbody>\n",
       "</table>\n",
       "</div>"
      ],
      "text/plain": [
       "  customer_id  gender is_senior_citizen partner dependents  phone_service  \\\n",
       "0  0002-ORFBO  Female                No     Yes        Yes              1   \n",
       "1  0003-MKNFE    Male                No      No         No              2   \n",
       "2  0004-TLHLJ    Male                No      No         No              1   \n",
       "3  0011-IGKFF    Male               Yes     Yes         No              1   \n",
       "4  0013-EXCHZ  Female               Yes     Yes         No              1   \n",
       "\n",
       "   internet_service   contract_type      payment_type  monthly_charges  \\\n",
       "0                 1          1 year      Mailed check             65.6   \n",
       "1                 1  month-to-month      Mailed check             59.9   \n",
       "2                 2  month-to-month  Electronic check             73.9   \n",
       "3                 2  month-to-month  Electronic check             98.0   \n",
       "4                 2  month-to-month      Mailed check             83.9   \n",
       "\n",
       "   total_charges churn  tenure  \n",
       "0         593.30    No     9.0  \n",
       "1         542.40    No     9.1  \n",
       "2         280.85   Yes     3.8  \n",
       "3        1237.85   Yes    12.6  \n",
       "4         267.40   Yes     3.2  "
      ]
     },
     "execution_count": 40,
     "metadata": {},
     "output_type": "execute_result"
    }
   ],
   "source": [
    "# changing values of contract type to the actual contract verus 0,1,2\n",
    "telco.contract_type == 1\n",
    "telco.loc[telco[\"contract_type\"] == 1, \"contract_type\"] = '1 year'\n",
    "telco.loc[telco[\"contract_type\"] == 2, \"contract_type\"] = '2 year'\n",
    "telco.loc[telco[\"contract_type\"] == 0, \"contract_type\"] = 'month-to-month'\n",
    "telco.head()"
   ]
  },
  {
   "cell_type": "code",
   "execution_count": 46,
   "id": "1fac69bf",
   "metadata": {},
   "outputs": [
    {
     "data": {
      "text/html": [
       "<div>\n",
       "<style scoped>\n",
       "    .dataframe tbody tr th:only-of-type {\n",
       "        vertical-align: middle;\n",
       "    }\n",
       "\n",
       "    .dataframe tbody tr th {\n",
       "        vertical-align: top;\n",
       "    }\n",
       "\n",
       "    .dataframe thead th {\n",
       "        text-align: right;\n",
       "    }\n",
       "</style>\n",
       "<table border=\"1\" class=\"dataframe\">\n",
       "  <thead>\n",
       "    <tr style=\"text-align: right;\">\n",
       "      <th></th>\n",
       "      <th>customer_id</th>\n",
       "      <th>gender</th>\n",
       "      <th>is_senior_citizen</th>\n",
       "      <th>partner</th>\n",
       "      <th>dependents</th>\n",
       "      <th>phone_service</th>\n",
       "      <th>internet_service</th>\n",
       "      <th>contract_type</th>\n",
       "      <th>payment_type</th>\n",
       "      <th>monthly_charges</th>\n",
       "      <th>total_charges</th>\n",
       "      <th>churn</th>\n",
       "      <th>tenure</th>\n",
       "    </tr>\n",
       "  </thead>\n",
       "  <tbody>\n",
       "    <tr>\n",
       "      <th>0</th>\n",
       "      <td>0002-ORFBO</td>\n",
       "      <td>Female</td>\n",
       "      <td>No</td>\n",
       "      <td>Yes</td>\n",
       "      <td>Yes</td>\n",
       "      <td>1</td>\n",
       "      <td>1</td>\n",
       "      <td>1 year</td>\n",
       "      <td>Mailed check</td>\n",
       "      <td>65.60</td>\n",
       "      <td>593.30</td>\n",
       "      <td>No</td>\n",
       "      <td>9.0</td>\n",
       "    </tr>\n",
       "    <tr>\n",
       "      <th>1</th>\n",
       "      <td>0003-MKNFE</td>\n",
       "      <td>Male</td>\n",
       "      <td>No</td>\n",
       "      <td>No</td>\n",
       "      <td>No</td>\n",
       "      <td>2</td>\n",
       "      <td>1</td>\n",
       "      <td>month-to-month</td>\n",
       "      <td>Mailed check</td>\n",
       "      <td>59.90</td>\n",
       "      <td>542.40</td>\n",
       "      <td>No</td>\n",
       "      <td>9.0</td>\n",
       "    </tr>\n",
       "    <tr>\n",
       "      <th>2</th>\n",
       "      <td>0004-TLHLJ</td>\n",
       "      <td>Male</td>\n",
       "      <td>No</td>\n",
       "      <td>No</td>\n",
       "      <td>No</td>\n",
       "      <td>1</td>\n",
       "      <td>2</td>\n",
       "      <td>month-to-month</td>\n",
       "      <td>Electronic check</td>\n",
       "      <td>73.90</td>\n",
       "      <td>280.85</td>\n",
       "      <td>Yes</td>\n",
       "      <td>4.0</td>\n",
       "    </tr>\n",
       "    <tr>\n",
       "      <th>3</th>\n",
       "      <td>0011-IGKFF</td>\n",
       "      <td>Male</td>\n",
       "      <td>Yes</td>\n",
       "      <td>Yes</td>\n",
       "      <td>No</td>\n",
       "      <td>1</td>\n",
       "      <td>2</td>\n",
       "      <td>month-to-month</td>\n",
       "      <td>Electronic check</td>\n",
       "      <td>98.00</td>\n",
       "      <td>1237.85</td>\n",
       "      <td>Yes</td>\n",
       "      <td>13.0</td>\n",
       "    </tr>\n",
       "    <tr>\n",
       "      <th>4</th>\n",
       "      <td>0013-EXCHZ</td>\n",
       "      <td>Female</td>\n",
       "      <td>Yes</td>\n",
       "      <td>Yes</td>\n",
       "      <td>No</td>\n",
       "      <td>1</td>\n",
       "      <td>2</td>\n",
       "      <td>month-to-month</td>\n",
       "      <td>Mailed check</td>\n",
       "      <td>83.90</td>\n",
       "      <td>267.40</td>\n",
       "      <td>Yes</td>\n",
       "      <td>3.0</td>\n",
       "    </tr>\n",
       "    <tr>\n",
       "      <th>...</th>\n",
       "      <td>...</td>\n",
       "      <td>...</td>\n",
       "      <td>...</td>\n",
       "      <td>...</td>\n",
       "      <td>...</td>\n",
       "      <td>...</td>\n",
       "      <td>...</td>\n",
       "      <td>...</td>\n",
       "      <td>...</td>\n",
       "      <td>...</td>\n",
       "      <td>...</td>\n",
       "      <td>...</td>\n",
       "      <td>...</td>\n",
       "    </tr>\n",
       "    <tr>\n",
       "      <th>7044</th>\n",
       "      <td>9987-LUTYD</td>\n",
       "      <td>Female</td>\n",
       "      <td>No</td>\n",
       "      <td>No</td>\n",
       "      <td>No</td>\n",
       "      <td>1</td>\n",
       "      <td>1</td>\n",
       "      <td>1 year</td>\n",
       "      <td>Mailed check</td>\n",
       "      <td>55.15</td>\n",
       "      <td>742.90</td>\n",
       "      <td>No</td>\n",
       "      <td>14.0</td>\n",
       "    </tr>\n",
       "    <tr>\n",
       "      <th>7045</th>\n",
       "      <td>9992-RRAMN</td>\n",
       "      <td>Male</td>\n",
       "      <td>No</td>\n",
       "      <td>Yes</td>\n",
       "      <td>No</td>\n",
       "      <td>2</td>\n",
       "      <td>2</td>\n",
       "      <td>month-to-month</td>\n",
       "      <td>Electronic check</td>\n",
       "      <td>85.10</td>\n",
       "      <td>1873.70</td>\n",
       "      <td>Yes</td>\n",
       "      <td>22.0</td>\n",
       "    </tr>\n",
       "    <tr>\n",
       "      <th>7046</th>\n",
       "      <td>9992-UJOEL</td>\n",
       "      <td>Male</td>\n",
       "      <td>No</td>\n",
       "      <td>No</td>\n",
       "      <td>No</td>\n",
       "      <td>1</td>\n",
       "      <td>1</td>\n",
       "      <td>month-to-month</td>\n",
       "      <td>Mailed check</td>\n",
       "      <td>50.30</td>\n",
       "      <td>92.75</td>\n",
       "      <td>No</td>\n",
       "      <td>2.0</td>\n",
       "    </tr>\n",
       "    <tr>\n",
       "      <th>7047</th>\n",
       "      <td>9993-LHIEB</td>\n",
       "      <td>Male</td>\n",
       "      <td>No</td>\n",
       "      <td>Yes</td>\n",
       "      <td>Yes</td>\n",
       "      <td>1</td>\n",
       "      <td>1</td>\n",
       "      <td>2 year</td>\n",
       "      <td>Mailed check</td>\n",
       "      <td>67.85</td>\n",
       "      <td>4627.65</td>\n",
       "      <td>No</td>\n",
       "      <td>68.0</td>\n",
       "    </tr>\n",
       "    <tr>\n",
       "      <th>7048</th>\n",
       "      <td>9995-HOTOH</td>\n",
       "      <td>Male</td>\n",
       "      <td>No</td>\n",
       "      <td>Yes</td>\n",
       "      <td>Yes</td>\n",
       "      <td>0</td>\n",
       "      <td>1</td>\n",
       "      <td>2 year</td>\n",
       "      <td>Electronic check</td>\n",
       "      <td>59.00</td>\n",
       "      <td>3707.60</td>\n",
       "      <td>No</td>\n",
       "      <td>63.0</td>\n",
       "    </tr>\n",
       "  </tbody>\n",
       "</table>\n",
       "<p>7049 rows × 13 columns</p>\n",
       "</div>"
      ],
      "text/plain": [
       "     customer_id  gender is_senior_citizen partner dependents  phone_service  \\\n",
       "0     0002-ORFBO  Female                No     Yes        Yes              1   \n",
       "1     0003-MKNFE    Male                No      No         No              2   \n",
       "2     0004-TLHLJ    Male                No      No         No              1   \n",
       "3     0011-IGKFF    Male               Yes     Yes         No              1   \n",
       "4     0013-EXCHZ  Female               Yes     Yes         No              1   \n",
       "...          ...     ...               ...     ...        ...            ...   \n",
       "7044  9987-LUTYD  Female                No      No         No              1   \n",
       "7045  9992-RRAMN    Male                No     Yes         No              2   \n",
       "7046  9992-UJOEL    Male                No      No         No              1   \n",
       "7047  9993-LHIEB    Male                No     Yes        Yes              1   \n",
       "7048  9995-HOTOH    Male                No     Yes        Yes              0   \n",
       "\n",
       "      internet_service   contract_type      payment_type  monthly_charges  \\\n",
       "0                    1          1 year      Mailed check            65.60   \n",
       "1                    1  month-to-month      Mailed check            59.90   \n",
       "2                    2  month-to-month  Electronic check            73.90   \n",
       "3                    2  month-to-month  Electronic check            98.00   \n",
       "4                    2  month-to-month      Mailed check            83.90   \n",
       "...                ...             ...               ...              ...   \n",
       "7044                 1          1 year      Mailed check            55.15   \n",
       "7045                 2  month-to-month  Electronic check            85.10   \n",
       "7046                 1  month-to-month      Mailed check            50.30   \n",
       "7047                 1          2 year      Mailed check            67.85   \n",
       "7048                 1          2 year  Electronic check            59.00   \n",
       "\n",
       "      total_charges churn  tenure  \n",
       "0            593.30    No     9.0  \n",
       "1            542.40    No     9.0  \n",
       "2            280.85   Yes     4.0  \n",
       "3           1237.85   Yes    13.0  \n",
       "4            267.40   Yes     3.0  \n",
       "...             ...   ...     ...  \n",
       "7044         742.90    No    14.0  \n",
       "7045        1873.70   Yes    22.0  \n",
       "7046          92.75    No     2.0  \n",
       "7047        4627.65    No    68.0  \n",
       "7048        3707.60    No    63.0  \n",
       "\n",
       "[7049 rows x 13 columns]"
      ]
     },
     "execution_count": 46,
     "metadata": {},
     "output_type": "execute_result"
    }
   ],
   "source": [
    "# round tenure values to whole numbers\n",
    "telco['tenure'] = round(telco.tenure)\n",
    "telco"
   ]
  },
  {
   "cell_type": "code",
   "execution_count": 372,
   "id": "30362f6f",
   "metadata": {},
   "outputs": [
    {
     "data": {
      "text/html": [
       "<div>\n",
       "<style scoped>\n",
       "    .dataframe tbody tr th:only-of-type {\n",
       "        vertical-align: middle;\n",
       "    }\n",
       "\n",
       "    .dataframe tbody tr th {\n",
       "        vertical-align: top;\n",
       "    }\n",
       "\n",
       "    .dataframe thead th {\n",
       "        text-align: right;\n",
       "    }\n",
       "</style>\n",
       "<table border=\"1\" class=\"dataframe\">\n",
       "  <thead>\n",
       "    <tr style=\"text-align: right;\">\n",
       "      <th></th>\n",
       "      <th>customer_id</th>\n",
       "      <th>gender</th>\n",
       "      <th>is_senior_citizen</th>\n",
       "      <th>partner</th>\n",
       "      <th>dependents</th>\n",
       "      <th>phone_service</th>\n",
       "      <th>internet_service</th>\n",
       "      <th>contract_type</th>\n",
       "      <th>payment_type</th>\n",
       "      <th>monthly_charges</th>\n",
       "      <th>total_charges</th>\n",
       "      <th>churn</th>\n",
       "      <th>tenure</th>\n",
       "      <th>autopay</th>\n",
       "    </tr>\n",
       "  </thead>\n",
       "  <tbody>\n",
       "    <tr>\n",
       "      <th>6848</th>\n",
       "      <td>9730-DRTMJ</td>\n",
       "      <td>Male</td>\n",
       "      <td>No</td>\n",
       "      <td>Yes</td>\n",
       "      <td>No</td>\n",
       "      <td>2</td>\n",
       "      <td>1</td>\n",
       "      <td>1</td>\n",
       "      <td>Credit card (automatic)</td>\n",
       "      <td>72.80</td>\n",
       "      <td>2333.05</td>\n",
       "      <td>No</td>\n",
       "      <td>32.0</td>\n",
       "      <td>Yes</td>\n",
       "    </tr>\n",
       "    <tr>\n",
       "      <th>6890</th>\n",
       "      <td>9786-YWNHU</td>\n",
       "      <td>Female</td>\n",
       "      <td>No</td>\n",
       "      <td>Yes</td>\n",
       "      <td>Yes</td>\n",
       "      <td>1</td>\n",
       "      <td>1</td>\n",
       "      <td>2</td>\n",
       "      <td>Mailed check</td>\n",
       "      <td>63.55</td>\n",
       "      <td>4014.20</td>\n",
       "      <td>No</td>\n",
       "      <td>63.2</td>\n",
       "      <td>No</td>\n",
       "    </tr>\n",
       "    <tr>\n",
       "      <th>5224</th>\n",
       "      <td>7353-YOWFP</td>\n",
       "      <td>Female</td>\n",
       "      <td>No</td>\n",
       "      <td>No</td>\n",
       "      <td>No</td>\n",
       "      <td>1</td>\n",
       "      <td>0</td>\n",
       "      <td>1</td>\n",
       "      <td>Mailed check</td>\n",
       "      <td>20.25</td>\n",
       "      <td>129.15</td>\n",
       "      <td>No</td>\n",
       "      <td>6.4</td>\n",
       "      <td>No</td>\n",
       "    </tr>\n",
       "    <tr>\n",
       "      <th>2712</th>\n",
       "      <td>3863-IUBJR</td>\n",
       "      <td>Male</td>\n",
       "      <td>No</td>\n",
       "      <td>Yes</td>\n",
       "      <td>Yes</td>\n",
       "      <td>1</td>\n",
       "      <td>1</td>\n",
       "      <td>1</td>\n",
       "      <td>Credit card (automatic)</td>\n",
       "      <td>53.65</td>\n",
       "      <td>696.35</td>\n",
       "      <td>Yes</td>\n",
       "      <td>13.0</td>\n",
       "      <td>Yes</td>\n",
       "    </tr>\n",
       "    <tr>\n",
       "      <th>720</th>\n",
       "      <td>1062-LHZOD</td>\n",
       "      <td>Male</td>\n",
       "      <td>No</td>\n",
       "      <td>Yes</td>\n",
       "      <td>Yes</td>\n",
       "      <td>1</td>\n",
       "      <td>2</td>\n",
       "      <td>0</td>\n",
       "      <td>Mailed check</td>\n",
       "      <td>69.90</td>\n",
       "      <td>69.90</td>\n",
       "      <td>Yes</td>\n",
       "      <td>1.0</td>\n",
       "      <td>No</td>\n",
       "    </tr>\n",
       "  </tbody>\n",
       "</table>\n",
       "</div>"
      ],
      "text/plain": [
       "     customer_id  gender is_senior_citizen partner dependents  phone_service  \\\n",
       "6848  9730-DRTMJ    Male                No     Yes         No              2   \n",
       "6890  9786-YWNHU  Female                No     Yes        Yes              1   \n",
       "5224  7353-YOWFP  Female                No      No         No              1   \n",
       "2712  3863-IUBJR    Male                No     Yes        Yes              1   \n",
       "720   1062-LHZOD    Male                No     Yes        Yes              1   \n",
       "\n",
       "      internet_service  contract_type             payment_type  \\\n",
       "6848                 1              1  Credit card (automatic)   \n",
       "6890                 1              2             Mailed check   \n",
       "5224                 0              1             Mailed check   \n",
       "2712                 1              1  Credit card (automatic)   \n",
       "720                  2              0             Mailed check   \n",
       "\n",
       "      monthly_charges  total_charges churn  tenure autopay  \n",
       "6848            72.80        2333.05    No    32.0     Yes  \n",
       "6890            63.55        4014.20    No    63.2      No  \n",
       "5224            20.25         129.15    No     6.4      No  \n",
       "2712            53.65         696.35   Yes    13.0     Yes  \n",
       "720             69.90          69.90   Yes     1.0      No  "
      ]
     },
     "execution_count": 372,
     "metadata": {},
     "output_type": "execute_result"
    }
   ],
   "source": [
    "# creating autopay column\n",
    "telco['autopay'] = np.where(telco['payment_type'].str.contains('auto'), 'Yes', 'No')\n",
    "telco.sample(5)"
   ]
  },
  {
   "cell_type": "code",
   "execution_count": 365,
   "id": "a586e7fd",
   "metadata": {},
   "outputs": [
    {
     "data": {
      "text/plain": [
       "70.35"
      ]
     },
     "execution_count": 365,
     "metadata": {},
     "output_type": "execute_result"
    }
   ],
   "source": [
    "telco.monthly_charges.median()"
   ]
  },
  {
   "cell_type": "code",
   "execution_count": 277,
   "id": "583be910",
   "metadata": {},
   "outputs": [
    {
     "data": {
      "text/plain": [
       "0.3422736970435843"
      ]
     },
     "execution_count": 277,
     "metadata": {},
     "output_type": "execute_result"
    }
   ],
   "source": [
    "single = telco[(telco.partner == 'No') & (telco.dependents == 'No')]\n",
    "single_churned = telco[(telco.partner == 'No') & (telco.dependents == 'No') & (telco.churn == 'Yes')]\n",
    "len(single_churned) / len(single)"
   ]
  },
  {
   "cell_type": "code",
   "execution_count": 364,
   "id": "5f1576a2",
   "metadata": {},
   "outputs": [
    {
     "data": {
      "text/plain": [
       "0.4654560930628458"
      ]
     },
     "execution_count": 364,
     "metadata": {},
     "output_type": "execute_result"
    }
   ],
   "source": [
    "len(single) / len(telco)"
   ]
  },
  {
   "cell_type": "code",
   "execution_count": 366,
   "id": "4d7c6f0d",
   "metadata": {},
   "outputs": [
    {
     "data": {
      "text/plain": [
       "69.7"
      ]
     },
     "execution_count": 366,
     "metadata": {},
     "output_type": "execute_result"
    }
   ],
   "source": [
    "single.monthly_charges.median()"
   ]
  },
  {
   "cell_type": "code",
   "execution_count": 309,
   "id": "238ee841",
   "metadata": {},
   "outputs": [
    {
     "data": {
      "text/plain": [
       "0.5345439069371543"
      ]
     },
     "execution_count": 309,
     "metadata": {},
     "output_type": "execute_result"
    }
   ],
   "source": [
    "len(has_family) / len(telco)"
   ]
  },
  {
   "cell_type": "code",
   "execution_count": 293,
   "id": "0faf136c",
   "metadata": {},
   "outputs": [
    {
     "data": {
      "text/plain": [
       "0.1982484076433121"
      ]
     },
     "execution_count": 293,
     "metadata": {},
     "output_type": "execute_result"
    }
   ],
   "source": [
    "has_family = telco[(telco.dependents == 'Yes') | (telco.partner == 'Yes')]\n",
    "has_family_churned = telco[((telco.dependents == 'Yes') | (telco.partner == 'Yes')) & (telco.churn == 'Yes')]\n",
    "len(has_family_churned) / len(has_family)"
   ]
  },
  {
   "cell_type": "code",
   "execution_count": 367,
   "id": "0bffe494",
   "metadata": {},
   "outputs": [
    {
     "data": {
      "text/plain": [
       "72.85"
      ]
     },
     "execution_count": 367,
     "metadata": {},
     "output_type": "execute_result"
    }
   ],
   "source": [
    "has_family.monthly_charges.median()"
   ]
  },
  {
   "cell_type": "code",
   "execution_count": 305,
   "id": "fe4bfc6c",
   "metadata": {},
   "outputs": [
    {
     "data": {
      "text/plain": [
       "0.4168126094570928"
      ]
     },
     "execution_count": 305,
     "metadata": {},
     "output_type": "execute_result"
    }
   ],
   "source": [
    "senior = telco[(telco.is_senior_citizen == 'Yes')]\n",
    "senior_churned = telco[(telco.is_senior_citizen == 'Yes') & (telco.churn == 'Yes')]\n",
    "len(senior_churned) / len(senior)"
   ]
  },
  {
   "cell_type": "code",
   "execution_count": 368,
   "id": "7175b25a",
   "metadata": {},
   "outputs": [
    {
     "data": {
      "text/plain": [
       "84.85"
      ]
     },
     "execution_count": 368,
     "metadata": {},
     "output_type": "execute_result"
    }
   ],
   "source": [
    "senior.monthly_charges.median()"
   ]
  },
  {
   "cell_type": "code",
   "execution_count": 396,
   "id": "690ad734",
   "metadata": {},
   "outputs": [
    {
     "data": {
      "text/plain": [
       "3977"
      ]
     },
     "execution_count": 396,
     "metadata": {},
     "output_type": "execute_result"
    }
   ],
   "source": [
    "# how many customers don't have autopay\n",
    "len(telco[telco.autopay == 'No'])"
   ]
  },
  {
   "cell_type": "code",
   "execution_count": 376,
   "id": "c1708c9f",
   "metadata": {},
   "outputs": [
    {
     "data": {
      "text/plain": [
       "251139.30000000002"
      ]
     },
     "execution_count": 376,
     "metadata": {},
     "output_type": "execute_result"
    }
   ],
   "source": [
    "# total monthly income of those without autopay\n",
    "telco[telco.autopay == 'No'].monthly_charges.sum()"
   ]
  },
  {
   "cell_type": "code",
   "execution_count": 377,
   "id": "e8140a77",
   "metadata": {
    "scrolled": true
   },
   "outputs": [
    {
     "data": {
      "text/plain": [
       "226025.37000000002"
      ]
     },
     "execution_count": 377,
     "metadata": {},
     "output_type": "execute_result"
    }
   ],
   "source": [
    "# if everyone without autopay enrolled in autopay and was discounted\n",
    "telco[telco.autopay == 'No'].monthly_charges.sum() - (telco[telco.autopay == 'No'].monthly_charges.sum() * .10)"
   ]
  },
  {
   "cell_type": "code",
   "execution_count": 378,
   "id": "e2194ebe",
   "metadata": {},
   "outputs": [
    {
     "data": {
      "text/plain": [
       "205262.4"
      ]
     },
     "execution_count": 378,
     "metadata": {},
     "output_type": "execute_result"
    }
   ],
   "source": [
    "# total monthly income of those with autopay\n",
    "telco[telco.autopay == 'Yes'].monthly_charges.sum()"
   ]
  },
  {
   "cell_type": "code",
   "execution_count": 390,
   "id": "191a203f",
   "metadata": {},
   "outputs": [
    {
     "data": {
      "text/plain": [
       "0.06965527025109945"
      ]
     },
     "execution_count": 390,
     "metadata": {},
     "output_type": "execute_result"
    }
   ],
   "source": [
    "# of the customers that churned 7% had autopay vs 20% that did not\n",
    "len(telco[(telco.autopay == 'Yes') & (telco.churn == 'Yes')]) / len(telco)"
   ]
  },
  {
   "cell_type": "code",
   "execution_count": 391,
   "id": "73c0da33",
   "metadata": {},
   "outputs": [
    {
     "data": {
      "text/plain": [
       "0.19563058589870905"
      ]
     },
     "execution_count": 391,
     "metadata": {},
     "output_type": "execute_result"
    }
   ],
   "source": [
    "len(telco[(telco.autopay == 'No') & (telco.churn == 'Yes')]) / len(telco)"
   ]
  },
  {
   "cell_type": "code",
   "execution_count": 442,
   "id": "7ef22604",
   "metadata": {},
   "outputs": [
    {
     "data": {
      "text/plain": [
       "12282.632100297917"
      ]
     },
     "execution_count": 442,
     "metadata": {},
     "output_type": "execute_result"
    }
   ],
   "source": [
    "# if we converted 25% of non-autopayers to autopay with a 10% discount we would spend $6279 for 25%, if we convert 25% we increase\n",
    "# retainability and prevent losses of $12,283\n",
    "\n",
    "len(telco[(telco.autopay == 'No') & (telco.churn == 'Yes')]) / len(telco) * .25 * telco[telco.autopay == 'No'].monthly_charges.sum()\n"
   ]
  },
  {
   "cell_type": "code",
   "execution_count": 436,
   "id": "2c29aacc",
   "metadata": {},
   "outputs": [
    {
     "data": {
      "text/plain": [
       "180345.0"
      ]
     },
     "execution_count": 436,
     "metadata": {},
     "output_type": "execute_result"
    }
   ],
   "source": [
    "\n"
   ]
  },
  {
   "cell_type": "code",
   "execution_count": 429,
   "id": "9d25e1a8",
   "metadata": {},
   "outputs": [
    {
     "data": {
      "text/plain": [
       "1071"
      ]
     },
     "execution_count": 429,
     "metadata": {},
     "output_type": "execute_result"
    }
   ],
   "source": [
    "len(telco[telco['payment_type'].str.contains('Elec') & (telco.churn == 'Yes')])\n"
   ]
  },
  {
   "cell_type": "code",
   "execution_count": 435,
   "id": "e38f4437",
   "metadata": {},
   "outputs": [
    {
     "data": {
      "text/plain": [
       "1294"
      ]
     },
     "execution_count": 435,
     "metadata": {},
     "output_type": "execute_result"
    }
   ],
   "source": [
    "len(telco[telco['payment_type'].str.contains('Elec') & (telco.churn == 'No')])"
   ]
  },
  {
   "cell_type": "markdown",
   "id": "bddd5128",
   "metadata": {},
   "source": [
    "### Step 3: Answer your initial hypotheses with visuals and statistics\n",
    "\n",
    "Initial hypotheses:\n",
    "    Monthly costs will impact churn rate\n",
    "    Customer demographics impact churn\n",
    "    Payment type impacts churn\n",
    "\n",
    "Takeaways:\n",
    "Customers that churn have higher monthly charges\n",
    "Families are more likely to stay\n",
    "42% of seniors are churning\n",
    "Customers with electronic payments churn at the highest rate\n",
    "\n",
    "Proposal:\n",
    "Market to families as they are more likely to stay.\n",
    "Offer 15% discounts to seniors \n",
    "Incentivize autopay with 10% discount"
   ]
  },
  {
   "cell_type": "code",
   "execution_count": 229,
   "id": "afca1c96",
   "metadata": {},
   "outputs": [
    {
     "data": {
      "text/plain": [
       "<AxesSubplot:xlabel='churn', ylabel='monthly_charges'>"
      ]
     },
     "execution_count": 229,
     "metadata": {},
     "output_type": "execute_result"
    },
    {
     "data": {
      "image/png": "[encoded data removed]",
      "text/plain": [
       "<Figure size 432x288 with 1 Axes>"
      ]
     },
     "metadata": {
      "needs_background": "light"
     },
     "output_type": "display_data"
    }
   ],
   "source": [
    "# customers that churn have higher monthly charges based on the median \n",
    "sns.boxplot(data = telco, x = 'churn', y = 'monthly_charges')"
   ]
  },
  {
   "cell_type": "code",
   "execution_count": null,
   "id": "e4c61e26",
   "metadata": {},
   "outputs": [],
   "source": [
    "# does family type impact costs?churn? (single, partnered, dependents, senior citizen)\n",
    "# there are slight differences in average monthly costs based off of family type\n",
    "# biggest area to look into is senior citizens are paying, on average $18 more monthly than non-seniors\n",
    "# are senior citizens churning more frequently? 42% of seniors churned\n",
    "# those with partners/dependents are less likely to churn than those without\n",
    "# those without autopay churn more frequently -- specifically those with electronic payments\n",
    "\n",
    "#areas to incentivize are autopay and senior discounts\n",
    "\n",
    "\n",
    "\n",
    "\n"
   ]
  },
  {
   "cell_type": "code",
   "execution_count": 351,
   "id": "83a81bd8",
   "metadata": {},
   "outputs": [
    {
     "data": {
      "text/html": [
       "<div>\n",
       "<style scoped>\n",
       "    .dataframe tbody tr th:only-of-type {\n",
       "        vertical-align: middle;\n",
       "    }\n",
       "\n",
       "    .dataframe tbody tr th {\n",
       "        vertical-align: top;\n",
       "    }\n",
       "\n",
       "    .dataframe thead th {\n",
       "        text-align: right;\n",
       "    }\n",
       "</style>\n",
       "<table border=\"1\" class=\"dataframe\">\n",
       "  <thead>\n",
       "    <tr style=\"text-align: right;\">\n",
       "      <th></th>\n",
       "      <th>customer_id</th>\n",
       "      <th>gender</th>\n",
       "      <th>is_senior_citizen</th>\n",
       "      <th>partner</th>\n",
       "      <th>dependents</th>\n",
       "      <th>phone_service</th>\n",
       "      <th>internet_service</th>\n",
       "      <th>contract_type</th>\n",
       "      <th>payment_type</th>\n",
       "      <th>monthly_charges</th>\n",
       "      <th>total_charges</th>\n",
       "      <th>churn</th>\n",
       "      <th>tenure</th>\n",
       "      <th>autopay</th>\n",
       "    </tr>\n",
       "  </thead>\n",
       "  <tbody>\n",
       "    <tr>\n",
       "      <th>1355</th>\n",
       "      <td>2017-CCBLH</td>\n",
       "      <td>Female</td>\n",
       "      <td>0</td>\n",
       "      <td>No</td>\n",
       "      <td>No</td>\n",
       "      <td>1</td>\n",
       "      <td>0</td>\n",
       "      <td>2</td>\n",
       "      <td>Mailed check</td>\n",
       "      <td>20.00</td>\n",
       "      <td>141.60</td>\n",
       "      <td>No</td>\n",
       "      <td>7.1</td>\n",
       "      <td>No</td>\n",
       "    </tr>\n",
       "    <tr>\n",
       "      <th>4320</th>\n",
       "      <td>6094-ZIVKX</td>\n",
       "      <td>Female</td>\n",
       "      <td>0</td>\n",
       "      <td>No</td>\n",
       "      <td>No</td>\n",
       "      <td>1</td>\n",
       "      <td>1</td>\n",
       "      <td>1</td>\n",
       "      <td>Credit card (automatic)</td>\n",
       "      <td>54.45</td>\n",
       "      <td>3674.95</td>\n",
       "      <td>No</td>\n",
       "      <td>67.5</td>\n",
       "      <td>Yes</td>\n",
       "    </tr>\n",
       "    <tr>\n",
       "      <th>6718</th>\n",
       "      <td>9541-ZPSEA</td>\n",
       "      <td>Male</td>\n",
       "      <td>0</td>\n",
       "      <td>Yes</td>\n",
       "      <td>Yes</td>\n",
       "      <td>1</td>\n",
       "      <td>2</td>\n",
       "      <td>2</td>\n",
       "      <td>Credit card (automatic)</td>\n",
       "      <td>80.35</td>\n",
       "      <td>5375.15</td>\n",
       "      <td>No</td>\n",
       "      <td>66.9</td>\n",
       "      <td>Yes</td>\n",
       "    </tr>\n",
       "    <tr>\n",
       "      <th>5440</th>\n",
       "      <td>7660-HDPJV</td>\n",
       "      <td>Female</td>\n",
       "      <td>0</td>\n",
       "      <td>No</td>\n",
       "      <td>No</td>\n",
       "      <td>1</td>\n",
       "      <td>2</td>\n",
       "      <td>0</td>\n",
       "      <td>Electronic check</td>\n",
       "      <td>69.20</td>\n",
       "      <td>69.20</td>\n",
       "      <td>Yes</td>\n",
       "      <td>1.0</td>\n",
       "      <td>No</td>\n",
       "    </tr>\n",
       "    <tr>\n",
       "      <th>1373</th>\n",
       "      <td>2038-LLMLM</td>\n",
       "      <td>Female</td>\n",
       "      <td>0</td>\n",
       "      <td>No</td>\n",
       "      <td>No</td>\n",
       "      <td>2</td>\n",
       "      <td>2</td>\n",
       "      <td>0</td>\n",
       "      <td>Electronic check</td>\n",
       "      <td>103.85</td>\n",
       "      <td>4946.05</td>\n",
       "      <td>No</td>\n",
       "      <td>47.6</td>\n",
       "      <td>No</td>\n",
       "    </tr>\n",
       "  </tbody>\n",
       "</table>\n",
       "</div>"
      ],
      "text/plain": [
       "     customer_id  gender  is_senior_citizen partner dependents  phone_service  \\\n",
       "1355  2017-CCBLH  Female                  0      No         No              1   \n",
       "4320  6094-ZIVKX  Female                  0      No         No              1   \n",
       "6718  9541-ZPSEA    Male                  0     Yes        Yes              1   \n",
       "5440  7660-HDPJV  Female                  0      No         No              1   \n",
       "1373  2038-LLMLM  Female                  0      No         No              2   \n",
       "\n",
       "      internet_service  contract_type             payment_type  \\\n",
       "1355                 0              2             Mailed check   \n",
       "4320                 1              1  Credit card (automatic)   \n",
       "6718                 2              2  Credit card (automatic)   \n",
       "5440                 2              0         Electronic check   \n",
       "1373                 2              0         Electronic check   \n",
       "\n",
       "      monthly_charges  total_charges churn  tenure autopay  \n",
       "1355            20.00         141.60    No     7.1      No  \n",
       "4320            54.45        3674.95    No    67.5     Yes  \n",
       "6718            80.35        5375.15    No    66.9     Yes  \n",
       "5440            69.20          69.20   Yes     1.0      No  \n",
       "1373           103.85        4946.05    No    47.6      No  "
      ]
     },
     "execution_count": 351,
     "metadata": {},
     "output_type": "execute_result"
    }
   ],
   "source": []
  },
  {
   "cell_type": "code",
   "execution_count": 362,
   "id": "18538164",
   "metadata": {},
   "outputs": [
    {
     "data": {
      "text/plain": [
       "<seaborn.axisgrid.FacetGrid at 0x7f78b18d2370>"
      ]
     },
     "execution_count": 362,
     "metadata": {},
     "output_type": "execute_result"
    },
    {
     "data": {
      "image/png": "[encoded data removed]",
      "text/plain": [
       "<Figure size 427.25x360 with 1 Axes>"
      ]
     },
     "metadata": {
      "needs_background": "light"
     },
     "output_type": "display_data"
    }
   ],
   "source": [
    "sns.displot(data = telco, x = 'churn', hue = 'dependents', multiple = 'stack')"
   ]
  },
  {
   "cell_type": "code",
   "execution_count": 361,
   "id": "0d0224cf",
   "metadata": {
    "scrolled": false
   },
   "outputs": [
    {
     "data": {
      "text/plain": [
       "<seaborn.axisgrid.FacetGrid at 0x7f7880d32580>"
      ]
     },
     "execution_count": 361,
     "metadata": {},
     "output_type": "execute_result"
    },
    {
     "data": {
      "image/png": "[encoded data removed]",
      "text/plain": [
       "<Figure size 412x360 with 1 Axes>"
      ]
     },
     "metadata": {
      "needs_background": "light"
     },
     "output_type": "display_data"
    }
   ],
   "source": [
    "sns.displot(data = telco, x = 'churn', hue = 'partner', multiple = 'stack')"
   ]
  },
  {
   "cell_type": "code",
   "execution_count": 357,
   "id": "a6dde00d",
   "metadata": {},
   "outputs": [
    {
     "data": {
      "text/plain": [
       "<seaborn.axisgrid.FacetGrid at 0x7f788082d040>"
      ]
     },
     "execution_count": 357,
     "metadata": {},
     "output_type": "execute_result"
    },
    {
     "data": {
      "image/png": "[encoded data removed]",
      "text/plain": [
       "<Figure size 449.625x360 with 1 Axes>"
      ]
     },
     "metadata": {
      "needs_background": "light"
     },
     "output_type": "display_data"
    }
   ],
   "source": [
    "sns.displot(data = telco, x = 'churn', hue = 'is_senior_citizen', multiple = 'stack')"
   ]
  },
  {
   "cell_type": "code",
   "execution_count": 350,
   "id": "9855fc2e",
   "metadata": {},
   "outputs": [
    {
     "data": {
      "text/plain": [
       "<seaborn.axisgrid.FacetGrid at 0x7f78808a1550>"
      ]
     },
     "execution_count": 350,
     "metadata": {},
     "output_type": "execute_result"
    },
    {
     "data": {
      "image/png": "[encoded data removed]",
      "text/plain": [
       "<Figure size 412x360 with 1 Axes>"
      ]
     },
     "metadata": {
      "needs_background": "light"
     },
     "output_type": "display_data"
    }
   ],
   "source": [
    "sns.displot(data = telco, x = 'churn', hue = 'autopay', multiple = 'stack')"
   ]
  },
  {
   "cell_type": "code",
   "execution_count": null,
   "id": "b7911aa2",
   "metadata": {},
   "outputs": [],
   "source": []
  },
  {
   "cell_type": "code",
   "execution_count": null,
   "id": "b0746073",
   "metadata": {},
   "outputs": [],
   "source": []
  },
  {
   "cell_type": "code",
   "execution_count": null,
   "id": "d379aa42",
   "metadata": {},
   "outputs": [],
   "source": []
  },
  {
   "cell_type": "code",
   "execution_count": null,
   "id": "790b0559",
   "metadata": {},
   "outputs": [],
   "source": []
  },
  {
   "cell_type": "code",
   "execution_count": null,
   "id": "13a0cbc6",
   "metadata": {},
   "outputs": [],
   "source": []
  },
  {
   "cell_type": "code",
   "execution_count": null,
   "id": "c4ca0184",
   "metadata": {},
   "outputs": [],
   "source": []
  },
  {
   "cell_type": "code",
   "execution_count": null,
   "id": "f8012202",
   "metadata": {},
   "outputs": [],
   "source": []
  }
 ],
 "metadata": {
  "kernelspec": {
   "display_name": "Python 3 (ipykernel)",
   "language": "python",
   "name": "python3"
  },
  "language_info": {
   "codemirror_mode": {
    "name": "ipython",
    "version": 3
   },
   "file_extension": ".py",
   "mimetype": "text/x-python",
   "name": "python",
   "nbconvert_exporter": "python",
   "pygments_lexer": "ipython3",
   "version": "3.9.7"
  }
 },
 "nbformat": 4,
 "nbformat_minor": 5
}
