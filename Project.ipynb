{
 "cells": [
  {
   "cell_type": "code",
   "execution_count": 13,
   "id": "d29bb63d",
   "metadata": {},
   "outputs": [
    {
     "data": {
      "text/html": [
       "<div>\n",
       "<style scoped>\n",
       "    .dataframe tbody tr th:only-of-type {\n",
       "        vertical-align: middle;\n",
       "    }\n",
       "\n",
       "    .dataframe tbody tr th {\n",
       "        vertical-align: top;\n",
       "    }\n",
       "\n",
       "    .dataframe thead th {\n",
       "        text-align: right;\n",
       "    }\n",
       "</style>\n",
       "<table border=\"1\" class=\"dataframe\">\n",
       "  <thead>\n",
       "    <tr style=\"text-align: right;\">\n",
       "      <th></th>\n",
       "      <th>customer_id</th>\n",
       "      <th>gender</th>\n",
       "      <th>is_senior_citizen</th>\n",
       "      <th>partner</th>\n",
       "      <th>dependents</th>\n",
       "      <th>phone_service</th>\n",
       "      <th>internet_service</th>\n",
       "      <th>contract_type</th>\n",
       "      <th>payment_type</th>\n",
       "      <th>monthly_charges</th>\n",
       "      <th>...</th>\n",
       "      <th>has_phone_and_internet</th>\n",
       "      <th>partner_dependents</th>\n",
       "      <th>average_monthly_charges</th>\n",
       "      <th>validate</th>\n",
       "      <th>contract_type.1</th>\n",
       "      <th>phone_service.1</th>\n",
       "      <th>internet_service.1</th>\n",
       "      <th>rounded_tenure</th>\n",
       "      <th>service_type</th>\n",
       "      <th>tenure_binned</th>\n",
       "    </tr>\n",
       "  </thead>\n",
       "  <tbody>\n",
       "    <tr>\n",
       "      <th>0</th>\n",
       "      <td>0002-ORFBO</td>\n",
       "      <td>Female</td>\n",
       "      <td>0</td>\n",
       "      <td>Yes</td>\n",
       "      <td>Yes</td>\n",
       "      <td>1</td>\n",
       "      <td>1</td>\n",
       "      <td>1</td>\n",
       "      <td>Mailed check</td>\n",
       "      <td>65.6</td>\n",
       "      <td>...</td>\n",
       "      <td>True</td>\n",
       "      <td>3</td>\n",
       "      <td>65.6</td>\n",
       "      <td>TRUE</td>\n",
       "      <td>1 Year</td>\n",
       "      <td>One Line</td>\n",
       "      <td>DSL</td>\n",
       "      <td>9.0</td>\n",
       "      <td>Internet+Phone</td>\n",
       "      <td>&lt;1 years</td>\n",
       "    </tr>\n",
       "    <tr>\n",
       "      <th>1</th>\n",
       "      <td>0003-MKNFE</td>\n",
       "      <td>Male</td>\n",
       "      <td>0</td>\n",
       "      <td>No</td>\n",
       "      <td>No</td>\n",
       "      <td>2</td>\n",
       "      <td>1</td>\n",
       "      <td>0</td>\n",
       "      <td>Mailed check</td>\n",
       "      <td>59.9</td>\n",
       "      <td>...</td>\n",
       "      <td>True</td>\n",
       "      <td>0</td>\n",
       "      <td>59.9</td>\n",
       "      <td>TRUE</td>\n",
       "      <td>Month-to-Month</td>\n",
       "      <td>Two or More Lines</td>\n",
       "      <td>DSL</td>\n",
       "      <td>9.0</td>\n",
       "      <td>Internet+Phone</td>\n",
       "      <td>&lt;1 years</td>\n",
       "    </tr>\n",
       "    <tr>\n",
       "      <th>2</th>\n",
       "      <td>0004-TLHLJ</td>\n",
       "      <td>Male</td>\n",
       "      <td>0</td>\n",
       "      <td>No</td>\n",
       "      <td>No</td>\n",
       "      <td>1</td>\n",
       "      <td>2</td>\n",
       "      <td>0</td>\n",
       "      <td>Electronic check</td>\n",
       "      <td>73.9</td>\n",
       "      <td>...</td>\n",
       "      <td>True</td>\n",
       "      <td>0</td>\n",
       "      <td>73.9</td>\n",
       "      <td>TRUE</td>\n",
       "      <td>Month-to-Month</td>\n",
       "      <td>One Line</td>\n",
       "      <td>Fiber Optic</td>\n",
       "      <td>4.0</td>\n",
       "      <td>Internet+Phone</td>\n",
       "      <td>&lt;1 years</td>\n",
       "    </tr>\n",
       "    <tr>\n",
       "      <th>3</th>\n",
       "      <td>0011-IGKFF</td>\n",
       "      <td>Male</td>\n",
       "      <td>1</td>\n",
       "      <td>Yes</td>\n",
       "      <td>No</td>\n",
       "      <td>1</td>\n",
       "      <td>2</td>\n",
       "      <td>0</td>\n",
       "      <td>Electronic check</td>\n",
       "      <td>98.0</td>\n",
       "      <td>...</td>\n",
       "      <td>True</td>\n",
       "      <td>1</td>\n",
       "      <td>98</td>\n",
       "      <td>TRUE</td>\n",
       "      <td>Month-to-Month</td>\n",
       "      <td>One Line</td>\n",
       "      <td>Fiber Optic</td>\n",
       "      <td>13.0</td>\n",
       "      <td>Internet+Phone</td>\n",
       "      <td>1-2 years</td>\n",
       "    </tr>\n",
       "    <tr>\n",
       "      <th>4</th>\n",
       "      <td>0013-EXCHZ</td>\n",
       "      <td>Female</td>\n",
       "      <td>1</td>\n",
       "      <td>Yes</td>\n",
       "      <td>No</td>\n",
       "      <td>1</td>\n",
       "      <td>2</td>\n",
       "      <td>0</td>\n",
       "      <td>Mailed check</td>\n",
       "      <td>83.9</td>\n",
       "      <td>...</td>\n",
       "      <td>True</td>\n",
       "      <td>1</td>\n",
       "      <td>83.9</td>\n",
       "      <td>TRUE</td>\n",
       "      <td>Month-to-Month</td>\n",
       "      <td>One Line</td>\n",
       "      <td>Fiber Optic</td>\n",
       "      <td>3.0</td>\n",
       "      <td>Internet+Phone</td>\n",
       "      <td>&lt;1 years</td>\n",
       "    </tr>\n",
       "  </tbody>\n",
       "</table>\n",
       "<p>5 rows × 27 columns</p>\n",
       "</div>"
      ],
      "text/plain": [
       "  customer_id  gender  is_senior_citizen partner dependents  phone_service  \\\n",
       "0  0002-ORFBO  Female                  0     Yes        Yes              1   \n",
       "1  0003-MKNFE    Male                  0      No         No              2   \n",
       "2  0004-TLHLJ    Male                  0      No         No              1   \n",
       "3  0011-IGKFF    Male                  1     Yes         No              1   \n",
       "4  0013-EXCHZ  Female                  1     Yes         No              1   \n",
       "\n",
       "   internet_service  contract_type      payment_type  monthly_charges  ...  \\\n",
       "0                 1              1      Mailed check             65.6  ...   \n",
       "1                 1              0      Mailed check             59.9  ...   \n",
       "2                 2              0  Electronic check             73.9  ...   \n",
       "3                 2              0  Electronic check             98.0  ...   \n",
       "4                 2              0      Mailed check             83.9  ...   \n",
       "\n",
       "   has_phone_and_internet partner_dependents  average_monthly_charges  \\\n",
       "0                    True                  3                     65.6   \n",
       "1                    True                  0                     59.9   \n",
       "2                    True                  0                     73.9   \n",
       "3                    True                  1                       98   \n",
       "4                    True                  1                     83.9   \n",
       "\n",
       "   validate  contract_type.1    phone_service.1  internet_service.1  \\\n",
       "0      TRUE           1 Year           One Line                 DSL   \n",
       "1      TRUE   Month-to-Month  Two or More Lines                 DSL   \n",
       "2      TRUE   Month-to-Month           One Line         Fiber Optic   \n",
       "3      TRUE   Month-to-Month           One Line         Fiber Optic   \n",
       "4      TRUE   Month-to-Month           One Line         Fiber Optic   \n",
       "\n",
       "   rounded_tenure    service_type tenure_binned  \n",
       "0             9.0  Internet+Phone      <1 years  \n",
       "1             9.0  Internet+Phone      <1 years  \n",
       "2             4.0  Internet+Phone      <1 years  \n",
       "3            13.0  Internet+Phone     1-2 years  \n",
       "4             3.0  Internet+Phone      <1 years  \n",
       "\n",
       "[5 rows x 27 columns]"
      ]
     },
     "execution_count": 13,
     "metadata": {},
     "output_type": "execute_result"
    }
   ],
   "source": [
    "import pandas as pd\n",
    "import seaborn as sns\n",
    "import matplotlib.pyplot as plt\n",
    "\n",
    "\n",
    "telco = pd.read_csv(\"telco.csv\")\n",
    "\n",
    "telco.head(5)\n"
   ]
  },
  {
   "cell_type": "code",
   "execution_count": 4,
   "id": "c80252d5",
   "metadata": {},
   "outputs": [
    {
     "name": "stdout",
     "output_type": "stream",
     "text": [
      "<class 'pandas.core.frame.DataFrame'>\n",
      "RangeIndex: 7049 entries, 0 to 7048\n",
      "Data columns (total 27 columns):\n",
      " #   Column                   Non-Null Count  Dtype  \n",
      "---  ------                   --------------  -----  \n",
      " 0   customer_id              7049 non-null   object \n",
      " 1   gender                   7049 non-null   object \n",
      " 2   is_senior_citizen        7049 non-null   int64  \n",
      " 3   partner                  7049 non-null   object \n",
      " 4   dependents               7049 non-null   object \n",
      " 5   phone_service            7049 non-null   int64  \n",
      " 6   internet_service         7049 non-null   int64  \n",
      " 7   contract_type            7049 non-null   int64  \n",
      " 8   payment_type             7049 non-null   object \n",
      " 9   monthly_charges          7049 non-null   float64\n",
      " 10  total_charges            7038 non-null   float64\n",
      " 11  churn                    7049 non-null   object \n",
      " 12  tenure                   7049 non-null   float64\n",
      " 13  is_female                7049 non-null   bool   \n",
      " 14  has_churned              7049 non-null   bool   \n",
      " 15  has_phone                7049 non-null   bool   \n",
      " 16  has_internet             7049 non-null   bool   \n",
      " 17  has_phone_and_internet   7049 non-null   bool   \n",
      " 18  partner_dependents       7049 non-null   int64  \n",
      " 19  average_monthly_charges  7049 non-null   object \n",
      " 20  validate                 7049 non-null   object \n",
      " 21  contract_type.1          7049 non-null   object \n",
      " 22  phone_service.1          7049 non-null   object \n",
      " 23  internet_service.1       7049 non-null   object \n",
      " 24  rounded_tenure           7049 non-null   float64\n",
      " 25  service_type             7049 non-null   object \n",
      " 26  tenure_binned            7049 non-null   object \n",
      "dtypes: bool(5), float64(4), int64(5), object(13)\n",
      "memory usage: 1.2+ MB\n"
     ]
    }
   ],
   "source": [
    "telco.info()\n"
   ]
  },
  {
   "cell_type": "code",
   "execution_count": null,
   "id": "1313be04",
   "metadata": {},
   "outputs": [],
   "source": []
  },
  {
   "cell_type": "code",
   "execution_count": null,
   "id": "6fbd068d",
   "metadata": {},
   "outputs": [],
   "source": [
    "# Step 1: Define your goal. What's the impact? Who benefits? Why does this matter?\n",
    "# identify drivers that lead to churn; recommend possible changes; will save the company money"
   ]
  },
  {
   "cell_type": "code",
   "execution_count": null,
   "id": "6c927f45",
   "metadata": {},
   "outputs": [],
   "source": []
  },
  {
   "cell_type": "code",
   "execution_count": 15,
   "id": "b585f751",
   "metadata": {},
   "outputs": [
    {
     "data": {
      "text/plain": [
       "<AxesSubplot:>"
      ]
     },
     "execution_count": 15,
     "metadata": {},
     "output_type": "execute_result"
    },
    {
     "data": {
      "image/png": "[encoded data removed]",
      "text/plain": [
       "<Figure size 432x288 with 1 Axes>"
      ]
     },
     "metadata": {
      "needs_background": "light"
     },
     "output_type": "display_data"
    }
   ],
   "source": [
    "# Step 2: Get to know your data at a high level\n",
    "telco.churn.hist()"
   ]
  },
  {
   "cell_type": "code",
   "execution_count": 17,
   "id": "e552380b",
   "metadata": {},
   "outputs": [
    {
     "data": {
      "text/plain": [
       "No     5179\n",
       "Yes    1870\n",
       "Name: churn, dtype: int64"
      ]
     },
     "execution_count": 17,
     "metadata": {},
     "output_type": "execute_result"
    }
   ],
   "source": [
    "telco.churn.value_counts()"
   ]
  },
  {
   "cell_type": "code",
   "execution_count": 25,
   "id": "aeb4c2ee",
   "metadata": {},
   "outputs": [
    {
     "data": {
      "text/plain": [
       "<AxesSubplot:xlabel='monthly_charges', ylabel='churn'>"
      ]
     },
     "execution_count": 25,
     "metadata": {},
     "output_type": "execute_result"
    },
    {
     "data": {
      "image/png": "[encoded data removed]",
      "text/plain": [
       "<Figure size 432x288 with 1 Axes>"
      ]
     },
     "metadata": {
      "needs_background": "light"
     },
     "output_type": "display_data"
    }
   ],
   "source": [
    "sns.barplot(data = telco, x = 'monthly_charges', y = 'churn')"
   ]
  },
  {
   "cell_type": "code",
   "execution_count": 26,
   "id": "cd5abdb0",
   "metadata": {},
   "outputs": [
    {
     "data": {
      "text/plain": [
       "<AxesSubplot:xlabel='monthly_charges', ylabel='churn'>"
      ]
     },
     "execution_count": 26,
     "metadata": {},
     "output_type": "execute_result"
    },
    {
     "data": {
      "image/png": "[encoded data removed]",
      "text/plain": [
       "<Figure size 432x288 with 1 Axes>"
      ]
     },
     "metadata": {
      "needs_background": "light"
     },
     "output_type": "display_data"
    }
   ],
   "source": [
    "# customers that churn have higher monthly charges based on the median \n",
    "sns.boxplot(data = telco, x = 'monthly_charges', y = 'churn')"
   ]
  },
  {
   "cell_type": "code",
   "execution_count": 36,
   "id": "22e745fc",
   "metadata": {},
   "outputs": [
    {
     "data": {
      "text/plain": [
       "<AxesSubplot:xlabel='tenure', ylabel='churn'>"
      ]
     },
     "execution_count": 36,
     "metadata": {},
     "output_type": "execute_result"
    },
    {
     "data": {
      "image/png": "[encoded data removed]",
      "text/plain": [
       "<Figure size 432x288 with 1 Axes>"
      ]
     },
     "metadata": {
      "needs_background": "light"
     },
     "output_type": "display_data"
    }
   ],
   "source": [
    "sns.boxplot(data = telco, x = 'tenure', y = 'churn')\n",
    "# what happens after 2 years, that customers churn before year three? - contract lengths? cost increases?"
   ]
  },
  {
   "cell_type": "code",
   "execution_count": 61,
   "id": "30362f6f",
   "metadata": {},
   "outputs": [
    {
     "data": {
      "text/plain": [
       "0       False\n",
       "1       False\n",
       "2       False\n",
       "3       False\n",
       "4       False\n",
       "        ...  \n",
       "7044    False\n",
       "7045    False\n",
       "7046     True\n",
       "7047    False\n",
       "7048    False\n",
       "Name: tenure, Length: 7049, dtype: bool"
      ]
     },
     "execution_count": 61,
     "metadata": {},
     "output_type": "execute_result"
    }
   ],
   "source": [
    "telco[telco.tenure < 2]\n"
   ]
  },
  {
   "cell_type": "code",
   "execution_count": null,
   "id": "eceae6cd",
   "metadata": {},
   "outputs": [],
   "source": []
  },
  {
   "cell_type": "code",
   "execution_count": null,
   "id": "afca1c96",
   "metadata": {},
   "outputs": [],
   "source": []
  },
  {
   "cell_type": "code",
   "execution_count": null,
   "id": "e4c61e26",
   "metadata": {},
   "outputs": [],
   "source": []
  },
  {
   "cell_type": "code",
   "execution_count": null,
   "id": "ce18cb1c",
   "metadata": {},
   "outputs": [],
   "source": []
  },
  {
   "cell_type": "code",
   "execution_count": null,
   "id": "5f1576a2",
   "metadata": {},
   "outputs": [],
   "source": [
    "# Step 3: Answer your initial hypotheses with visuals and statistics"
   ]
  }
 ],
 "metadata": {
  "kernelspec": {
   "display_name": "Python 3 (ipykernel)",
   "language": "python",
   "name": "python3"
  },
  "language_info": {
   "codemirror_mode": {
    "name": "ipython",
    "version": 3
   },
   "file_extension": ".py",
   "mimetype": "text/x-python",
   "name": "python",
   "nbconvert_exporter": "python",
   "pygments_lexer": "ipython3",
   "version": "3.9.7"
  }
 },
 "nbformat": 4,
 "nbformat_minor": 5
}
