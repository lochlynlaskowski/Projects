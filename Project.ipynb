{
 "cells": [
  {
   "cell_type": "code",
   "execution_count": 31,
   "id": "d29bb63d",
   "metadata": {},
   "outputs": [
    {
     "data": {
      "text/html": [
       "<div>\n",
       "<style scoped>\n",
       "    .dataframe tbody tr th:only-of-type {\n",
       "        vertical-align: middle;\n",
       "    }\n",
       "\n",
       "    .dataframe tbody tr th {\n",
       "        vertical-align: top;\n",
       "    }\n",
       "\n",
       "    .dataframe thead th {\n",
       "        text-align: right;\n",
       "    }\n",
       "</style>\n",
       "<table border=\"1\" class=\"dataframe\">\n",
       "  <thead>\n",
       "    <tr style=\"text-align: right;\">\n",
       "      <th></th>\n",
       "      <th>customer_id</th>\n",
       "      <th>gender</th>\n",
       "      <th>is_senior_citizen</th>\n",
       "      <th>partner</th>\n",
       "      <th>dependents</th>\n",
       "      <th>phone_service</th>\n",
       "      <th>internet_service</th>\n",
       "      <th>contract_type</th>\n",
       "      <th>payment_type</th>\n",
       "      <th>monthly_charges</th>\n",
       "      <th>total_charges</th>\n",
       "      <th>churn</th>\n",
       "      <th>tenure</th>\n",
       "    </tr>\n",
       "  </thead>\n",
       "  <tbody>\n",
       "    <tr>\n",
       "      <th>0</th>\n",
       "      <td>0002-ORFBO</td>\n",
       "      <td>Female</td>\n",
       "      <td>0</td>\n",
       "      <td>Yes</td>\n",
       "      <td>Yes</td>\n",
       "      <td>1</td>\n",
       "      <td>1</td>\n",
       "      <td>1</td>\n",
       "      <td>Mailed check</td>\n",
       "      <td>65.6</td>\n",
       "      <td>593.30</td>\n",
       "      <td>No</td>\n",
       "      <td>9.0</td>\n",
       "    </tr>\n",
       "    <tr>\n",
       "      <th>1</th>\n",
       "      <td>0003-MKNFE</td>\n",
       "      <td>Male</td>\n",
       "      <td>0</td>\n",
       "      <td>No</td>\n",
       "      <td>No</td>\n",
       "      <td>2</td>\n",
       "      <td>1</td>\n",
       "      <td>0</td>\n",
       "      <td>Mailed check</td>\n",
       "      <td>59.9</td>\n",
       "      <td>542.40</td>\n",
       "      <td>No</td>\n",
       "      <td>9.1</td>\n",
       "    </tr>\n",
       "    <tr>\n",
       "      <th>2</th>\n",
       "      <td>0004-TLHLJ</td>\n",
       "      <td>Male</td>\n",
       "      <td>0</td>\n",
       "      <td>No</td>\n",
       "      <td>No</td>\n",
       "      <td>1</td>\n",
       "      <td>2</td>\n",
       "      <td>0</td>\n",
       "      <td>Electronic check</td>\n",
       "      <td>73.9</td>\n",
       "      <td>280.85</td>\n",
       "      <td>Yes</td>\n",
       "      <td>3.8</td>\n",
       "    </tr>\n",
       "    <tr>\n",
       "      <th>3</th>\n",
       "      <td>0011-IGKFF</td>\n",
       "      <td>Male</td>\n",
       "      <td>1</td>\n",
       "      <td>Yes</td>\n",
       "      <td>No</td>\n",
       "      <td>1</td>\n",
       "      <td>2</td>\n",
       "      <td>0</td>\n",
       "      <td>Electronic check</td>\n",
       "      <td>98.0</td>\n",
       "      <td>1237.85</td>\n",
       "      <td>Yes</td>\n",
       "      <td>12.6</td>\n",
       "    </tr>\n",
       "    <tr>\n",
       "      <th>4</th>\n",
       "      <td>0013-EXCHZ</td>\n",
       "      <td>Female</td>\n",
       "      <td>1</td>\n",
       "      <td>Yes</td>\n",
       "      <td>No</td>\n",
       "      <td>1</td>\n",
       "      <td>2</td>\n",
       "      <td>0</td>\n",
       "      <td>Mailed check</td>\n",
       "      <td>83.9</td>\n",
       "      <td>267.40</td>\n",
       "      <td>Yes</td>\n",
       "      <td>3.2</td>\n",
       "    </tr>\n",
       "  </tbody>\n",
       "</table>\n",
       "</div>"
      ],
      "text/plain": [
       "  customer_id  gender  is_senior_citizen partner dependents  phone_service  \\\n",
       "0  0002-ORFBO  Female                  0     Yes        Yes              1   \n",
       "1  0003-MKNFE    Male                  0      No         No              2   \n",
       "2  0004-TLHLJ    Male                  0      No         No              1   \n",
       "3  0011-IGKFF    Male                  1     Yes         No              1   \n",
       "4  0013-EXCHZ  Female                  1     Yes         No              1   \n",
       "\n",
       "   internet_service  contract_type      payment_type  monthly_charges  \\\n",
       "0                 1              1      Mailed check             65.6   \n",
       "1                 1              0      Mailed check             59.9   \n",
       "2                 2              0  Electronic check             73.9   \n",
       "3                 2              0  Electronic check             98.0   \n",
       "4                 2              0      Mailed check             83.9   \n",
       "\n",
       "   total_charges churn  tenure  \n",
       "0         593.30    No     9.0  \n",
       "1         542.40    No     9.1  \n",
       "2         280.85   Yes     3.8  \n",
       "3        1237.85   Yes    12.6  \n",
       "4         267.40   Yes     3.2  "
      ]
     },
     "execution_count": 31,
     "metadata": {},
     "output_type": "execute_result"
    }
   ],
   "source": [
    "import pandas as pd\n",
    "import seaborn as sns\n",
    "import matplotlib.pyplot as plt\n",
    "\n",
    "\n",
    "telco = pd.read_csv(\"telco.csv\")\n",
    "\n",
    "telco.head()\n"
   ]
  },
  {
   "cell_type": "code",
   "execution_count": null,
   "id": "c80252d5",
   "metadata": {},
   "outputs": [],
   "source": [
    "\n"
   ]
  },
  {
   "cell_type": "markdown",
   "id": "1ddbb9c1",
   "metadata": {},
   "source": [
    "### Step 1: Define your goal. What's the impact? Who benefits? Why does this matter?\n",
    "    \n",
    "Goal: identify key driver for customer churn\n",
    "\n",
    "Impact: Churn costs money; losing customers reduces revenue and acquiring new customers cost about $315 per customer.\n",
    "\n",
    "Industry standard: Telecommunications companies average about 2.5% monthly in churned customers\n",
    "\n",
    "Who benefits: The company will be able to increase overall profits by reducing churn, which can also benefit the customer by allowing additional promotions\n",
    "\n",
    "https://stlpartners.com/research/telco-economics-mobile-churn-rates-and-reduction-strategies/"
   ]
  },
  {
   "cell_type": "code",
   "execution_count": 49,
   "id": "80a03fd2",
   "metadata": {},
   "outputs": [
    {
     "data": {
      "text/plain": [
       "<AxesSubplot:>"
      ]
     },
     "execution_count": 49,
     "metadata": {},
     "output_type": "execute_result"
    },
    {
     "data": {
      "image/png": "[encoded data removed]",
      "text/plain": [
       "<Figure size 432x288 with 1 Axes>"
      ]
     },
     "metadata": {
      "needs_background": "light"
     },
     "output_type": "display_data"
    }
   ],
   "source": [
    "telco.churn.hist()"
   ]
  },
  {
   "cell_type": "code",
   "execution_count": 47,
   "id": "e552380b",
   "metadata": {
    "scrolled": true
   },
   "outputs": [
    {
     "data": {
      "text/plain": [
       "No     5179\n",
       "Yes    1870\n",
       "Name: churn, dtype: int64"
      ]
     },
     "execution_count": 47,
     "metadata": {},
     "output_type": "execute_result"
    }
   ],
   "source": [
    "telco.churn.value_counts()"
   ]
  },
  {
   "cell_type": "code",
   "execution_count": 50,
   "id": "aeb4c2ee",
   "metadata": {},
   "outputs": [
    {
     "data": {
      "text/plain": [
       "26.528585614980848"
      ]
     },
     "execution_count": 50,
     "metadata": {},
     "output_type": "execute_result"
    }
   ],
   "source": [
    "telco[telco.churn == \"Yes\"].shape[0] / telco.shape[0] * 100\n",
    "# the percentage of customers that churn is well above the monthly standard of 2.5%"
   ]
  },
  {
   "cell_type": "code",
   "execution_count": 64,
   "id": "cd5abdb0",
   "metadata": {},
   "outputs": [
    {
     "name": "stdout",
     "output_type": "stream",
     "text": [
      "The monthly cost of customers that churn is:  $ 139161\n"
     ]
    }
   ],
   "source": [
    "# determine monthly lost profits for customers that churn\n",
    "monthly_cost = telco[telco.churn == 'Yes'].monthly_charges.sum()\n",
    "print(\"The monthly cost of customers that churn is: \", '$', round(monthly_cost))"
   ]
  },
  {
   "cell_type": "code",
   "execution_count": 63,
   "id": "22e745fc",
   "metadata": {},
   "outputs": [
    {
     "name": "stdout",
     "output_type": "stream",
     "text": [
      "The annual cost of customers that churn is:  $ 1669936\n"
     ]
    }
   ],
   "source": [
    "# determine annual lost profits for customers that churn\n",
    "annual_cost = telco[telco.churn == 'Yes'].monthly_charges.sum() * 12\n",
    "print(\"The annual cost of customers that churn is: \", '$', round(annual_cost))"
   ]
  },
  {
   "cell_type": "code",
   "execution_count": 77,
   "id": "fb5d3440",
   "metadata": {},
   "outputs": [
    {
     "name": "stdout",
     "output_type": "stream",
     "text": [
      "The monthly cost of acquiring new customers to replace those that churn is:  $ 589050\n"
     ]
    }
   ],
   "source": [
    "# determine cost of replacing churned customers (acquisition cost is $315 per new customer)\n",
    "\n",
    "monthly_acquisition_cost = len(telco[telco.churn == 'Yes']) * 315\n",
    "print(\"The monthly cost of acquiring new customers to replace those that churn is: \", '$', round(monthly_acquisition_cost))\n"
   ]
  },
  {
   "cell_type": "code",
   "execution_count": 82,
   "id": "79df1e83",
   "metadata": {},
   "outputs": [
    {
     "name": "stdout",
     "output_type": "stream",
     "text": [
      "$ 728211\n"
     ]
    }
   ],
   "source": [
    "# on a monthly basis, what would churning customers and acquiring their replacements cost?\n",
    "print('$', (round(monthly_cost + monthly_acquisition_cost)))"
   ]
  },
  {
   "cell_type": "code",
   "execution_count": null,
   "id": "51c41d50",
   "metadata": {},
   "outputs": [],
   "source": []
  },
  {
   "cell_type": "markdown",
   "id": "70293632",
   "metadata": {},
   "source": [
    "### Step 2: Get to know your data at a high level\n"
   ]
  },
  {
   "cell_type": "code",
   "execution_count": 4,
   "id": "fead7588",
   "metadata": {},
   "outputs": [
    {
     "name": "stdout",
     "output_type": "stream",
     "text": [
      "<class 'pandas.core.frame.DataFrame'>\n",
      "RangeIndex: 7049 entries, 0 to 7048\n",
      "Data columns (total 13 columns):\n",
      " #   Column             Non-Null Count  Dtype  \n",
      "---  ------             --------------  -----  \n",
      " 0   customer_id        7049 non-null   object \n",
      " 1   gender             7049 non-null   object \n",
      " 2   is_senior_citizen  7049 non-null   int64  \n",
      " 3   partner            7049 non-null   object \n",
      " 4   dependents         7049 non-null   object \n",
      " 5   phone_service      7049 non-null   int64  \n",
      " 6   internet_service   7049 non-null   int64  \n",
      " 7   contract_type      7049 non-null   int64  \n",
      " 8   payment_type       7049 non-null   object \n",
      " 9   monthly_charges    7049 non-null   float64\n",
      " 10  total_charges      7038 non-null   float64\n",
      " 11  churn              7049 non-null   object \n",
      " 12  tenure             7049 non-null   float64\n",
      "dtypes: float64(3), int64(4), object(6)\n",
      "memory usage: 716.0+ KB\n"
     ]
    }
   ],
   "source": [
    "telco.info()"
   ]
  },
  {
   "cell_type": "code",
   "execution_count": 33,
   "id": "1532895c",
   "metadata": {},
   "outputs": [
    {
     "data": {
      "text/html": [
       "<div>\n",
       "<style scoped>\n",
       "    .dataframe tbody tr th:only-of-type {\n",
       "        vertical-align: middle;\n",
       "    }\n",
       "\n",
       "    .dataframe tbody tr th {\n",
       "        vertical-align: top;\n",
       "    }\n",
       "\n",
       "    .dataframe thead th {\n",
       "        text-align: right;\n",
       "    }\n",
       "</style>\n",
       "<table border=\"1\" class=\"dataframe\">\n",
       "  <thead>\n",
       "    <tr style=\"text-align: right;\">\n",
       "      <th></th>\n",
       "      <th>customer_id</th>\n",
       "      <th>gender</th>\n",
       "      <th>is_senior_citizen</th>\n",
       "      <th>partner</th>\n",
       "      <th>dependents</th>\n",
       "      <th>phone_service</th>\n",
       "      <th>internet_service</th>\n",
       "      <th>contract_type</th>\n",
       "      <th>payment_type</th>\n",
       "      <th>monthly_charges</th>\n",
       "      <th>total_charges</th>\n",
       "      <th>churn</th>\n",
       "      <th>tenure</th>\n",
       "    </tr>\n",
       "  </thead>\n",
       "  <tbody>\n",
       "    <tr>\n",
       "      <th>0</th>\n",
       "      <td>0002-ORFBO</td>\n",
       "      <td>Female</td>\n",
       "      <td>No</td>\n",
       "      <td>Yes</td>\n",
       "      <td>Yes</td>\n",
       "      <td>1</td>\n",
       "      <td>1</td>\n",
       "      <td>1</td>\n",
       "      <td>Mailed check</td>\n",
       "      <td>65.6</td>\n",
       "      <td>593.30</td>\n",
       "      <td>No</td>\n",
       "      <td>9.0</td>\n",
       "    </tr>\n",
       "    <tr>\n",
       "      <th>1</th>\n",
       "      <td>0003-MKNFE</td>\n",
       "      <td>Male</td>\n",
       "      <td>No</td>\n",
       "      <td>No</td>\n",
       "      <td>No</td>\n",
       "      <td>2</td>\n",
       "      <td>1</td>\n",
       "      <td>0</td>\n",
       "      <td>Mailed check</td>\n",
       "      <td>59.9</td>\n",
       "      <td>542.40</td>\n",
       "      <td>No</td>\n",
       "      <td>9.1</td>\n",
       "    </tr>\n",
       "    <tr>\n",
       "      <th>2</th>\n",
       "      <td>0004-TLHLJ</td>\n",
       "      <td>Male</td>\n",
       "      <td>No</td>\n",
       "      <td>No</td>\n",
       "      <td>No</td>\n",
       "      <td>1</td>\n",
       "      <td>2</td>\n",
       "      <td>0</td>\n",
       "      <td>Electronic check</td>\n",
       "      <td>73.9</td>\n",
       "      <td>280.85</td>\n",
       "      <td>Yes</td>\n",
       "      <td>3.8</td>\n",
       "    </tr>\n",
       "    <tr>\n",
       "      <th>3</th>\n",
       "      <td>0011-IGKFF</td>\n",
       "      <td>Male</td>\n",
       "      <td>Yes</td>\n",
       "      <td>Yes</td>\n",
       "      <td>No</td>\n",
       "      <td>1</td>\n",
       "      <td>2</td>\n",
       "      <td>0</td>\n",
       "      <td>Electronic check</td>\n",
       "      <td>98.0</td>\n",
       "      <td>1237.85</td>\n",
       "      <td>Yes</td>\n",
       "      <td>12.6</td>\n",
       "    </tr>\n",
       "    <tr>\n",
       "      <th>4</th>\n",
       "      <td>0013-EXCHZ</td>\n",
       "      <td>Female</td>\n",
       "      <td>Yes</td>\n",
       "      <td>Yes</td>\n",
       "      <td>No</td>\n",
       "      <td>1</td>\n",
       "      <td>2</td>\n",
       "      <td>0</td>\n",
       "      <td>Mailed check</td>\n",
       "      <td>83.9</td>\n",
       "      <td>267.40</td>\n",
       "      <td>Yes</td>\n",
       "      <td>3.2</td>\n",
       "    </tr>\n",
       "  </tbody>\n",
       "</table>\n",
       "</div>"
      ],
      "text/plain": [
       "  customer_id  gender is_senior_citizen partner dependents  phone_service  \\\n",
       "0  0002-ORFBO  Female                No     Yes        Yes              1   \n",
       "1  0003-MKNFE    Male                No      No         No              2   \n",
       "2  0004-TLHLJ    Male                No      No         No              1   \n",
       "3  0011-IGKFF    Male               Yes     Yes         No              1   \n",
       "4  0013-EXCHZ  Female               Yes     Yes         No              1   \n",
       "\n",
       "   internet_service  contract_type      payment_type  monthly_charges  \\\n",
       "0                 1              1      Mailed check             65.6   \n",
       "1                 1              0      Mailed check             59.9   \n",
       "2                 2              0  Electronic check             73.9   \n",
       "3                 2              0  Electronic check             98.0   \n",
       "4                 2              0      Mailed check             83.9   \n",
       "\n",
       "   total_charges churn  tenure  \n",
       "0         593.30    No     9.0  \n",
       "1         542.40    No     9.1  \n",
       "2         280.85   Yes     3.8  \n",
       "3        1237.85   Yes    12.6  \n",
       "4         267.40   Yes     3.2  "
      ]
     },
     "execution_count": 33,
     "metadata": {},
     "output_type": "execute_result"
    }
   ],
   "source": [
    "# data cleanup\n",
    "# total_charges seems to have some null values\n",
    "telco['is_senior_citizen'] = telco['is_senior_citizen'].replace([0, 1],['No', 'Yes']).astype('object')\n",
    "# changing senior citizen to be more like partner and dependents columns\n",
    "\n",
    "telco.head()"
   ]
  },
  {
   "cell_type": "code",
   "execution_count": 40,
   "id": "7ccda73e",
   "metadata": {},
   "outputs": [
    {
     "data": {
      "text/html": [
       "<div>\n",
       "<style scoped>\n",
       "    .dataframe tbody tr th:only-of-type {\n",
       "        vertical-align: middle;\n",
       "    }\n",
       "\n",
       "    .dataframe tbody tr th {\n",
       "        vertical-align: top;\n",
       "    }\n",
       "\n",
       "    .dataframe thead th {\n",
       "        text-align: right;\n",
       "    }\n",
       "</style>\n",
       "<table border=\"1\" class=\"dataframe\">\n",
       "  <thead>\n",
       "    <tr style=\"text-align: right;\">\n",
       "      <th></th>\n",
       "      <th>customer_id</th>\n",
       "      <th>gender</th>\n",
       "      <th>is_senior_citizen</th>\n",
       "      <th>partner</th>\n",
       "      <th>dependents</th>\n",
       "      <th>phone_service</th>\n",
       "      <th>internet_service</th>\n",
       "      <th>contract_type</th>\n",
       "      <th>payment_type</th>\n",
       "      <th>monthly_charges</th>\n",
       "      <th>total_charges</th>\n",
       "      <th>churn</th>\n",
       "      <th>tenure</th>\n",
       "    </tr>\n",
       "  </thead>\n",
       "  <tbody>\n",
       "    <tr>\n",
       "      <th>0</th>\n",
       "      <td>0002-ORFBO</td>\n",
       "      <td>Female</td>\n",
       "      <td>No</td>\n",
       "      <td>Yes</td>\n",
       "      <td>Yes</td>\n",
       "      <td>1</td>\n",
       "      <td>1</td>\n",
       "      <td>1 year</td>\n",
       "      <td>Mailed check</td>\n",
       "      <td>65.6</td>\n",
       "      <td>593.30</td>\n",
       "      <td>No</td>\n",
       "      <td>9.0</td>\n",
       "    </tr>\n",
       "    <tr>\n",
       "      <th>1</th>\n",
       "      <td>0003-MKNFE</td>\n",
       "      <td>Male</td>\n",
       "      <td>No</td>\n",
       "      <td>No</td>\n",
       "      <td>No</td>\n",
       "      <td>2</td>\n",
       "      <td>1</td>\n",
       "      <td>month-to-month</td>\n",
       "      <td>Mailed check</td>\n",
       "      <td>59.9</td>\n",
       "      <td>542.40</td>\n",
       "      <td>No</td>\n",
       "      <td>9.1</td>\n",
       "    </tr>\n",
       "    <tr>\n",
       "      <th>2</th>\n",
       "      <td>0004-TLHLJ</td>\n",
       "      <td>Male</td>\n",
       "      <td>No</td>\n",
       "      <td>No</td>\n",
       "      <td>No</td>\n",
       "      <td>1</td>\n",
       "      <td>2</td>\n",
       "      <td>month-to-month</td>\n",
       "      <td>Electronic check</td>\n",
       "      <td>73.9</td>\n",
       "      <td>280.85</td>\n",
       "      <td>Yes</td>\n",
       "      <td>3.8</td>\n",
       "    </tr>\n",
       "    <tr>\n",
       "      <th>3</th>\n",
       "      <td>0011-IGKFF</td>\n",
       "      <td>Male</td>\n",
       "      <td>Yes</td>\n",
       "      <td>Yes</td>\n",
       "      <td>No</td>\n",
       "      <td>1</td>\n",
       "      <td>2</td>\n",
       "      <td>month-to-month</td>\n",
       "      <td>Electronic check</td>\n",
       "      <td>98.0</td>\n",
       "      <td>1237.85</td>\n",
       "      <td>Yes</td>\n",
       "      <td>12.6</td>\n",
       "    </tr>\n",
       "    <tr>\n",
       "      <th>4</th>\n",
       "      <td>0013-EXCHZ</td>\n",
       "      <td>Female</td>\n",
       "      <td>Yes</td>\n",
       "      <td>Yes</td>\n",
       "      <td>No</td>\n",
       "      <td>1</td>\n",
       "      <td>2</td>\n",
       "      <td>month-to-month</td>\n",
       "      <td>Mailed check</td>\n",
       "      <td>83.9</td>\n",
       "      <td>267.40</td>\n",
       "      <td>Yes</td>\n",
       "      <td>3.2</td>\n",
       "    </tr>\n",
       "  </tbody>\n",
       "</table>\n",
       "</div>"
      ],
      "text/plain": [
       "  customer_id  gender is_senior_citizen partner dependents  phone_service  \\\n",
       "0  0002-ORFBO  Female                No     Yes        Yes              1   \n",
       "1  0003-MKNFE    Male                No      No         No              2   \n",
       "2  0004-TLHLJ    Male                No      No         No              1   \n",
       "3  0011-IGKFF    Male               Yes     Yes         No              1   \n",
       "4  0013-EXCHZ  Female               Yes     Yes         No              1   \n",
       "\n",
       "   internet_service   contract_type      payment_type  monthly_charges  \\\n",
       "0                 1          1 year      Mailed check             65.6   \n",
       "1                 1  month-to-month      Mailed check             59.9   \n",
       "2                 2  month-to-month  Electronic check             73.9   \n",
       "3                 2  month-to-month  Electronic check             98.0   \n",
       "4                 2  month-to-month      Mailed check             83.9   \n",
       "\n",
       "   total_charges churn  tenure  \n",
       "0         593.30    No     9.0  \n",
       "1         542.40    No     9.1  \n",
       "2         280.85   Yes     3.8  \n",
       "3        1237.85   Yes    12.6  \n",
       "4         267.40   Yes     3.2  "
      ]
     },
     "execution_count": 40,
     "metadata": {},
     "output_type": "execute_result"
    }
   ],
   "source": [
    "# changing values of contract type to the actual contract verus 0,1,2\n",
    "telco.contract_type == 1\n",
    "telco.loc[telco[\"contract_type\"] == 1, \"contract_type\"] = '1 year'\n",
    "telco.loc[telco[\"contract_type\"] == 2, \"contract_type\"] = '2 year'\n",
    "telco.loc[telco[\"contract_type\"] == 0, \"contract_type\"] = 'month-to-month'\n",
    "telco.head()"
   ]
  },
  {
   "cell_type": "code",
   "execution_count": 46,
   "id": "b37b35dd",
   "metadata": {},
   "outputs": [
    {
     "data": {
      "text/html": [
       "<div>\n",
       "<style scoped>\n",
       "    .dataframe tbody tr th:only-of-type {\n",
       "        vertical-align: middle;\n",
       "    }\n",
       "\n",
       "    .dataframe tbody tr th {\n",
       "        vertical-align: top;\n",
       "    }\n",
       "\n",
       "    .dataframe thead th {\n",
       "        text-align: right;\n",
       "    }\n",
       "</style>\n",
       "<table border=\"1\" class=\"dataframe\">\n",
       "  <thead>\n",
       "    <tr style=\"text-align: right;\">\n",
       "      <th></th>\n",
       "      <th>customer_id</th>\n",
       "      <th>gender</th>\n",
       "      <th>is_senior_citizen</th>\n",
       "      <th>partner</th>\n",
       "      <th>dependents</th>\n",
       "      <th>phone_service</th>\n",
       "      <th>internet_service</th>\n",
       "      <th>contract_type</th>\n",
       "      <th>payment_type</th>\n",
       "      <th>monthly_charges</th>\n",
       "      <th>total_charges</th>\n",
       "      <th>churn</th>\n",
       "      <th>tenure</th>\n",
       "    </tr>\n",
       "  </thead>\n",
       "  <tbody>\n",
       "    <tr>\n",
       "      <th>0</th>\n",
       "      <td>0002-ORFBO</td>\n",
       "      <td>Female</td>\n",
       "      <td>No</td>\n",
       "      <td>Yes</td>\n",
       "      <td>Yes</td>\n",
       "      <td>1</td>\n",
       "      <td>1</td>\n",
       "      <td>1 year</td>\n",
       "      <td>Mailed check</td>\n",
       "      <td>65.60</td>\n",
       "      <td>593.30</td>\n",
       "      <td>No</td>\n",
       "      <td>9.0</td>\n",
       "    </tr>\n",
       "    <tr>\n",
       "      <th>1</th>\n",
       "      <td>0003-MKNFE</td>\n",
       "      <td>Male</td>\n",
       "      <td>No</td>\n",
       "      <td>No</td>\n",
       "      <td>No</td>\n",
       "      <td>2</td>\n",
       "      <td>1</td>\n",
       "      <td>month-to-month</td>\n",
       "      <td>Mailed check</td>\n",
       "      <td>59.90</td>\n",
       "      <td>542.40</td>\n",
       "      <td>No</td>\n",
       "      <td>9.0</td>\n",
       "    </tr>\n",
       "    <tr>\n",
       "      <th>2</th>\n",
       "      <td>0004-TLHLJ</td>\n",
       "      <td>Male</td>\n",
       "      <td>No</td>\n",
       "      <td>No</td>\n",
       "      <td>No</td>\n",
       "      <td>1</td>\n",
       "      <td>2</td>\n",
       "      <td>month-to-month</td>\n",
       "      <td>Electronic check</td>\n",
       "      <td>73.90</td>\n",
       "      <td>280.85</td>\n",
       "      <td>Yes</td>\n",
       "      <td>4.0</td>\n",
       "    </tr>\n",
       "    <tr>\n",
       "      <th>3</th>\n",
       "      <td>0011-IGKFF</td>\n",
       "      <td>Male</td>\n",
       "      <td>Yes</td>\n",
       "      <td>Yes</td>\n",
       "      <td>No</td>\n",
       "      <td>1</td>\n",
       "      <td>2</td>\n",
       "      <td>month-to-month</td>\n",
       "      <td>Electronic check</td>\n",
       "      <td>98.00</td>\n",
       "      <td>1237.85</td>\n",
       "      <td>Yes</td>\n",
       "      <td>13.0</td>\n",
       "    </tr>\n",
       "    <tr>\n",
       "      <th>4</th>\n",
       "      <td>0013-EXCHZ</td>\n",
       "      <td>Female</td>\n",
       "      <td>Yes</td>\n",
       "      <td>Yes</td>\n",
       "      <td>No</td>\n",
       "      <td>1</td>\n",
       "      <td>2</td>\n",
       "      <td>month-to-month</td>\n",
       "      <td>Mailed check</td>\n",
       "      <td>83.90</td>\n",
       "      <td>267.40</td>\n",
       "      <td>Yes</td>\n",
       "      <td>3.0</td>\n",
       "    </tr>\n",
       "    <tr>\n",
       "      <th>...</th>\n",
       "      <td>...</td>\n",
       "      <td>...</td>\n",
       "      <td>...</td>\n",
       "      <td>...</td>\n",
       "      <td>...</td>\n",
       "      <td>...</td>\n",
       "      <td>...</td>\n",
       "      <td>...</td>\n",
       "      <td>...</td>\n",
       "      <td>...</td>\n",
       "      <td>...</td>\n",
       "      <td>...</td>\n",
       "      <td>...</td>\n",
       "    </tr>\n",
       "    <tr>\n",
       "      <th>7044</th>\n",
       "      <td>9987-LUTYD</td>\n",
       "      <td>Female</td>\n",
       "      <td>No</td>\n",
       "      <td>No</td>\n",
       "      <td>No</td>\n",
       "      <td>1</td>\n",
       "      <td>1</td>\n",
       "      <td>1 year</td>\n",
       "      <td>Mailed check</td>\n",
       "      <td>55.15</td>\n",
       "      <td>742.90</td>\n",
       "      <td>No</td>\n",
       "      <td>14.0</td>\n",
       "    </tr>\n",
       "    <tr>\n",
       "      <th>7045</th>\n",
       "      <td>9992-RRAMN</td>\n",
       "      <td>Male</td>\n",
       "      <td>No</td>\n",
       "      <td>Yes</td>\n",
       "      <td>No</td>\n",
       "      <td>2</td>\n",
       "      <td>2</td>\n",
       "      <td>month-to-month</td>\n",
       "      <td>Electronic check</td>\n",
       "      <td>85.10</td>\n",
       "      <td>1873.70</td>\n",
       "      <td>Yes</td>\n",
       "      <td>22.0</td>\n",
       "    </tr>\n",
       "    <tr>\n",
       "      <th>7046</th>\n",
       "      <td>9992-UJOEL</td>\n",
       "      <td>Male</td>\n",
       "      <td>No</td>\n",
       "      <td>No</td>\n",
       "      <td>No</td>\n",
       "      <td>1</td>\n",
       "      <td>1</td>\n",
       "      <td>month-to-month</td>\n",
       "      <td>Mailed check</td>\n",
       "      <td>50.30</td>\n",
       "      <td>92.75</td>\n",
       "      <td>No</td>\n",
       "      <td>2.0</td>\n",
       "    </tr>\n",
       "    <tr>\n",
       "      <th>7047</th>\n",
       "      <td>9993-LHIEB</td>\n",
       "      <td>Male</td>\n",
       "      <td>No</td>\n",
       "      <td>Yes</td>\n",
       "      <td>Yes</td>\n",
       "      <td>1</td>\n",
       "      <td>1</td>\n",
       "      <td>2 year</td>\n",
       "      <td>Mailed check</td>\n",
       "      <td>67.85</td>\n",
       "      <td>4627.65</td>\n",
       "      <td>No</td>\n",
       "      <td>68.0</td>\n",
       "    </tr>\n",
       "    <tr>\n",
       "      <th>7048</th>\n",
       "      <td>9995-HOTOH</td>\n",
       "      <td>Male</td>\n",
       "      <td>No</td>\n",
       "      <td>Yes</td>\n",
       "      <td>Yes</td>\n",
       "      <td>0</td>\n",
       "      <td>1</td>\n",
       "      <td>2 year</td>\n",
       "      <td>Electronic check</td>\n",
       "      <td>59.00</td>\n",
       "      <td>3707.60</td>\n",
       "      <td>No</td>\n",
       "      <td>63.0</td>\n",
       "    </tr>\n",
       "  </tbody>\n",
       "</table>\n",
       "<p>7049 rows × 13 columns</p>\n",
       "</div>"
      ],
      "text/plain": [
       "     customer_id  gender is_senior_citizen partner dependents  phone_service  \\\n",
       "0     0002-ORFBO  Female                No     Yes        Yes              1   \n",
       "1     0003-MKNFE    Male                No      No         No              2   \n",
       "2     0004-TLHLJ    Male                No      No         No              1   \n",
       "3     0011-IGKFF    Male               Yes     Yes         No              1   \n",
       "4     0013-EXCHZ  Female               Yes     Yes         No              1   \n",
       "...          ...     ...               ...     ...        ...            ...   \n",
       "7044  9987-LUTYD  Female                No      No         No              1   \n",
       "7045  9992-RRAMN    Male                No     Yes         No              2   \n",
       "7046  9992-UJOEL    Male                No      No         No              1   \n",
       "7047  9993-LHIEB    Male                No     Yes        Yes              1   \n",
       "7048  9995-HOTOH    Male                No     Yes        Yes              0   \n",
       "\n",
       "      internet_service   contract_type      payment_type  monthly_charges  \\\n",
       "0                    1          1 year      Mailed check            65.60   \n",
       "1                    1  month-to-month      Mailed check            59.90   \n",
       "2                    2  month-to-month  Electronic check            73.90   \n",
       "3                    2  month-to-month  Electronic check            98.00   \n",
       "4                    2  month-to-month      Mailed check            83.90   \n",
       "...                ...             ...               ...              ...   \n",
       "7044                 1          1 year      Mailed check            55.15   \n",
       "7045                 2  month-to-month  Electronic check            85.10   \n",
       "7046                 1  month-to-month      Mailed check            50.30   \n",
       "7047                 1          2 year      Mailed check            67.85   \n",
       "7048                 1          2 year  Electronic check            59.00   \n",
       "\n",
       "      total_charges churn  tenure  \n",
       "0            593.30    No     9.0  \n",
       "1            542.40    No     9.0  \n",
       "2            280.85   Yes     4.0  \n",
       "3           1237.85   Yes    13.0  \n",
       "4            267.40   Yes     3.0  \n",
       "...             ...   ...     ...  \n",
       "7044         742.90    No    14.0  \n",
       "7045        1873.70   Yes    22.0  \n",
       "7046          92.75    No     2.0  \n",
       "7047        4627.65    No    68.0  \n",
       "7048        3707.60    No    63.0  \n",
       "\n",
       "[7049 rows x 13 columns]"
      ]
     },
     "execution_count": 46,
     "metadata": {},
     "output_type": "execute_result"
    }
   ],
   "source": [
    "# round tenure values to whole numbers\n",
    "telco['tenure'] = round(telco.tenure)\n",
    "telco"
   ]
  },
  {
   "cell_type": "code",
   "execution_count": null,
   "id": "30362f6f",
   "metadata": {},
   "outputs": [],
   "source": [
    "\n"
   ]
  },
  {
   "cell_type": "markdown",
   "id": "6897fc64",
   "metadata": {},
   "source": [
    "### Step 3: Answer your initial hypotheses with visuals and statistics\n"
   ]
  },
  {
   "cell_type": "code",
   "execution_count": 83,
   "id": "afca1c96",
   "metadata": {},
   "outputs": [
    {
     "data": {
      "text/plain": [
       "<AxesSubplot:xlabel='monthly_charges', ylabel='churn'>"
      ]
     },
     "execution_count": 83,
     "metadata": {},
     "output_type": "execute_result"
    },
    {
     "data": {
      "image/png": "[encoded data removed]",
      "text/plain": [
       "<Figure size 432x288 with 1 Axes>"
      ]
     },
     "metadata": {
      "needs_background": "light"
     },
     "output_type": "display_data"
    }
   ],
   "source": [
    "# customers that churn have higher monthly charges based on the median \n",
    "sns.boxplot(data = telco, x = 'monthly_charges', y = 'churn')"
   ]
  },
  {
   "cell_type": "code",
   "execution_count": null,
   "id": "e4c61e26",
   "metadata": {},
   "outputs": [],
   "source": [
    "# does family type impact costs? (single, partnered, dependents, senior citizen)\n",
    "# there are slight differences in average monthly costs based off of family type\n",
    "# biggest area to look into is senior citizens are paying, on average $18 more monthly than non-senior citizens\n",
    "# does this have to do with contract types? or services?\n",
    "# are senior citizens churning more frequently?\n",
    "# contract types for phones with no internet is not impactful *****\n",
    "#(prices remain $20 for 1 phone and $25 for 2 phones regradless of contract length) churned or not\n",
    "# phone prices are NOT impacting churn\n",
    "\n",
    "\n",
    "\n",
    "\n"
   ]
  },
  {
   "cell_type": "code",
   "execution_count": 94,
   "id": "5f1576a2",
   "metadata": {},
   "outputs": [],
   "source": [
    "churned = telco[telco.churn == 'Yes']\n",
    "not_churned = telco[telco.churn == 'No']"
   ]
  },
  {
   "cell_type": "code",
   "execution_count": 95,
   "id": "bfa09407",
   "metadata": {},
   "outputs": [
    {
     "data": {
      "text/plain": [
       "61.255136126665406"
      ]
     },
     "execution_count": 95,
     "metadata": {},
     "output_type": "execute_result"
    }
   ],
   "source": [
    "not_churned.monthly_charges.mean()"
   ]
  },
  {
   "cell_type": "code",
   "execution_count": 91,
   "id": "8b64b67d",
   "metadata": {
    "scrolled": true
   },
   "outputs": [
    {
     "data": {
      "text/plain": [
       "74.41783422459888"
      ]
     },
     "execution_count": 91,
     "metadata": {},
     "output_type": "execute_result"
    }
   ],
   "source": [
    "churned.monthly_charges.mean()"
   ]
  },
  {
   "cell_type": "code",
   "execution_count": 118,
   "id": "3478f077",
   "metadata": {},
   "outputs": [
    {
     "data": {
      "text/plain": [
       "64.74701376081717"
      ]
     },
     "execution_count": 118,
     "metadata": {},
     "output_type": "execute_result"
    }
   ],
   "source": [
    "telco.monthly_charges.mean()"
   ]
  },
  {
   "cell_type": "code",
   "execution_count": 99,
   "id": "08a2e3bf",
   "metadata": {},
   "outputs": [
    {
     "data": {
      "text/plain": [
       "partner\n",
       "No     61.933375\n",
       "Yes    67.754726\n",
       "Name: monthly_charges, dtype: float64"
      ]
     },
     "execution_count": 99,
     "metadata": {},
     "output_type": "execute_result"
    }
   ],
   "source": [
    "telco.groupby(by = 'partner').monthly_charges.mean() \n",
    "# customers with a partner pay more than the average"
   ]
  },
  {
   "cell_type": "code",
   "execution_count": 100,
   "id": "5a6e3bd0",
   "metadata": {},
   "outputs": [
    {
     "data": {
      "text/plain": [
       "is_senior_citizen\n",
       "No     61.832885\n",
       "Yes    79.820359\n",
       "Name: monthly_charges, dtype: float64"
      ]
     },
     "execution_count": 100,
     "metadata": {},
     "output_type": "execute_result"
    }
   ],
   "source": [
    "telco.groupby(by = 'is_senior_citizen').monthly_charges.mean()\n",
    "#customers that are seniors pay $18 more than the average non senior customer"
   ]
  },
  {
   "cell_type": "code",
   "execution_count": 101,
   "id": "853968f8",
   "metadata": {},
   "outputs": [
    {
     "data": {
      "text/plain": [
       "dependents\n",
       "No     66.993200\n",
       "Yes    59.506974\n",
       "Name: monthly_charges, dtype: float64"
      ]
     },
     "execution_count": 101,
     "metadata": {},
     "output_type": "execute_result"
    }
   ],
   "source": [
    "telco.groupby(by = 'dependents').monthly_charges.mean()"
   ]
  },
  {
   "cell_type": "code",
   "execution_count": 115,
   "id": "e9b09991",
   "metadata": {},
   "outputs": [
    {
     "data": {
      "text/plain": [
       "churn  is_senior_citizen\n",
       "No     No                   4513\n",
       "       Yes                   666\n",
       "Yes    No                   1394\n",
       "       Yes                   476\n",
       "Name: is_senior_citizen, dtype: int64"
      ]
     },
     "execution_count": 115,
     "metadata": {},
     "output_type": "execute_result"
    }
   ],
   "source": [
    "telco.groupby(by = 'churn').is_senior_citizen.value_counts()\n",
    "# 19% of the population is a senior citizen, and 42% of seniors churned "
   ]
  },
  {
   "cell_type": "code",
   "execution_count": 113,
   "id": "0cd4fdf9",
   "metadata": {},
   "outputs": [
    {
     "data": {
      "text/plain": [
       "churn  dependents\n",
       "No     No            3391\n",
       "       Yes           1788\n",
       "Yes    No            1543\n",
       "       Yes            327\n",
       "Name: dependents, dtype: int64"
      ]
     },
     "execution_count": 113,
     "metadata": {},
     "output_type": "execute_result"
    }
   ],
   "source": [
    "telco.groupby(by = 'churn').dependents.value_counts()\n",
    "# of those that churned 31% did not have dependents"
   ]
  },
  {
   "cell_type": "code",
   "execution_count": 114,
   "id": "b6fd0485",
   "metadata": {},
   "outputs": [
    {
     "data": {
      "text/plain": [
       "churn  partner\n",
       "No     Yes        2737\n",
       "       No         2442\n",
       "Yes    No         1200\n",
       "       Yes         670\n",
       "Name: partner, dtype: int64"
      ]
     },
     "execution_count": 114,
     "metadata": {},
     "output_type": "execute_result"
    }
   ],
   "source": [
    "telco.groupby(by = 'churn').partner.value_counts()\n",
    "# of those that churned, 33% did not have a partner"
   ]
  },
  {
   "cell_type": "code",
   "execution_count": 119,
   "id": "b19234d6",
   "metadata": {},
   "outputs": [
    {
     "data": {
      "text/plain": [
       "is_senior_citizen\n",
       "No     72.268113\n",
       "Yes    80.713445\n",
       "Name: monthly_charges, dtype: float64"
      ]
     },
     "execution_count": 119,
     "metadata": {},
     "output_type": "execute_result"
    }
   ],
   "source": [
    "churned.groupby(by = 'is_senior_citizen').monthly_charges.mean()"
   ]
  },
  {
   "cell_type": "code",
   "execution_count": 122,
   "id": "79c10f1e",
   "metadata": {},
   "outputs": [
    {
     "data": {
      "text/plain": [
       "54.190235640647934"
      ]
     },
     "execution_count": 122,
     "metadata": {},
     "output_type": "execute_result"
    }
   ],
   "source": [
    "telco[telco.phone_service == 1].monthly_charges.mean()"
   ]
  },
  {
   "cell_type": "code",
   "execution_count": 123,
   "id": "81dcd4ef",
   "metadata": {},
   "outputs": [
    {
     "data": {
      "text/plain": [
       "82.03697408280047"
      ]
     },
     "execution_count": 123,
     "metadata": {},
     "output_type": "execute_result"
    }
   ],
   "source": [
    "telco[telco.phone_service == 2].monthly_charges.mean()"
   ]
  },
  {
   "cell_type": "code",
   "execution_count": 131,
   "id": "2f71b86a",
   "metadata": {},
   "outputs": [
    {
     "data": {
      "text/plain": [
       "phone_service\n",
       "0    37.492690\n",
       "1    67.184452\n",
       "2    89.071176\n",
       "Name: monthly_charges, dtype: float64"
      ]
     },
     "execution_count": 131,
     "metadata": {},
     "output_type": "execute_result"
    }
   ],
   "source": [
    "telco.churned.groupby(by = 'phone_service').monthly_charges.mean()"
   ]
  },
  {
   "cell_type": "code",
   "execution_count": 132,
   "id": "f61d40c6",
   "metadata": {},
   "outputs": [
    {
     "data": {
      "text/plain": [
       "internet_service\n",
       "0    20.368142\n",
       "1    49.042826\n",
       "2    88.126484\n",
       "Name: monthly_charges, dtype: float64"
      ]
     },
     "execution_count": 132,
     "metadata": {},
     "output_type": "execute_result"
    }
   ],
   "source": [
    "telco.churned.groupby(by = 'internet_service').monthly_charges.mean()"
   ]
  },
  {
   "cell_type": "code",
   "execution_count": 133,
   "id": "8c3bdb5a",
   "metadata": {},
   "outputs": [
    {
     "data": {
      "text/plain": [
       "phone_service\n",
       "0    42.011713\n",
       "1    54.190236\n",
       "2    82.036974\n",
       "Name: monthly_charges, dtype: float64"
      ]
     },
     "execution_count": 133,
     "metadata": {},
     "output_type": "execute_result"
    }
   ],
   "source": [
    "telco.groupby(by = 'phone_service').monthly_charges.mean()"
   ]
  },
  {
   "cell_type": "code",
   "execution_count": 134,
   "id": "f5e0fcee",
   "metadata": {},
   "outputs": [
    {
     "data": {
      "text/plain": [
       "internet_service\n",
       "0    21.076880\n",
       "1    58.090772\n",
       "2    91.503970\n",
       "Name: monthly_charges, dtype: float64"
      ]
     },
     "execution_count": 134,
     "metadata": {},
     "output_type": "execute_result"
    }
   ],
   "source": [
    "telco.groupby(by = 'internet_service').monthly_charges.mean()"
   ]
  },
  {
   "cell_type": "code",
   "execution_count": 154,
   "id": "7afe25aa",
   "metadata": {},
   "outputs": [
    {
     "data": {
      "text/plain": [
       "0"
      ]
     },
     "execution_count": 154,
     "metadata": {},
     "output_type": "execute_result"
    }
   ],
   "source": [
    "len(telco[(telco.internet_service == 2) & (telco.phone_service == 0)])\n",
    "# there are no customers with DSL that don't have a phone"
   ]
  },
  {
   "cell_type": "code",
   "execution_count": 162,
   "id": "78b90df3",
   "metadata": {},
   "outputs": [
    {
     "data": {
      "text/plain": [
       "0.45689655172413796"
      ]
     },
     "execution_count": 162,
     "metadata": {},
     "output_type": "execute_result"
    }
   ],
   "source": [
    "len(churned[(churned.internet_service == 2) & (churned.phone_service == 1)]) / len(telco[(telco.internet_service == 2) & (telco.phone_service == 1)])\n",
    "\n",
    "# 46% of customers with fiber optic and 1 phone line churned\n"
   ]
  },
  {
   "cell_type": "code",
   "execution_count": 163,
   "id": "db96dce7",
   "metadata": {},
   "outputs": [
    {
     "data": {
      "text/plain": [
       "0.3957688338493292"
      ]
     },
     "execution_count": 163,
     "metadata": {},
     "output_type": "execute_result"
    }
   ],
   "source": [
    "len(churned[(churned.internet_service == 2) & (churned.phone_service == 2)]) / len(telco[(telco.internet_service == 2) & (telco.phone_service == 2)])\n",
    "# 40% of customers with fiber optic and 2 or more phone lines churned"
   ]
  },
  {
   "cell_type": "code",
   "execution_count": 164,
   "id": "06ee1243",
   "metadata": {},
   "outputs": [
    {
     "data": {
      "text/plain": [
       "0.25036603221083453"
      ]
     },
     "execution_count": 164,
     "metadata": {},
     "output_type": "execute_result"
    }
   ],
   "source": [
    "len(churned[(churned.internet_service == 1) & (churned.phone_service == 0)]) / len(telco[(telco.internet_service == 1) & (telco.phone_service == 0)])\n",
    "# 25% of customers with DSL churned"
   ]
  },
  {
   "cell_type": "code",
   "execution_count": 165,
   "id": "abe7fa09",
   "metadata": {},
   "outputs": [
    {
     "data": {
      "text/plain": [
       "0.20610687022900764"
      ]
     },
     "execution_count": 165,
     "metadata": {},
     "output_type": "execute_result"
    }
   ],
   "source": [
    "len(churned[(churned.internet_service == 1) & (churned.phone_service == 1)]) / len(telco[(telco.internet_service == 1) & (telco.phone_service == 1)])\n",
    "# 20% of customers with DSL  and 1 phone line churned"
   ]
  },
  {
   "cell_type": "code",
   "execution_count": 166,
   "id": "77627b82",
   "metadata": {},
   "outputs": [
    {
     "data": {
      "text/plain": [
       "0.10564399421128799"
      ]
     },
     "execution_count": 166,
     "metadata": {},
     "output_type": "execute_result"
    }
   ],
   "source": [
    "len(churned[(churned.internet_service == 1) & (churned.phone_service == 2)]) / len(telco[(telco.internet_service == 1) & (telco.phone_service == 2)])\n",
    "# 11% of customers with DSL and 2 or more phone lines churned\n",
    "# fiber optic seems to be a driver for churn "
   ]
  },
  {
   "cell_type": "code",
   "execution_count": 179,
   "id": "150bcd97",
   "metadata": {},
   "outputs": [
    {
     "data": {
      "text/plain": [
       "<pandas.core.groupby.generic.DataFrameGroupBy object at 0x7f78b1054130>"
      ]
     },
     "execution_count": 179,
     "metadata": {},
     "output_type": "execute_result"
    }
   ],
   "source": [
    "telco[(telco.internet_service == 2)]"
   ]
  },
  {
   "cell_type": "code",
   "execution_count": 169,
   "id": "569e415a",
   "metadata": {},
   "outputs": [
    {
     "data": {
      "text/plain": [
       "58.09077208918246"
      ]
     },
     "execution_count": 169,
     "metadata": {},
     "output_type": "execute_result"
    }
   ],
   "source": [
    "telco[telco.internet_service == 1].monthly_charges.mean()"
   ]
  },
  {
   "cell_type": "code",
   "execution_count": 180,
   "id": "c48c0446",
   "metadata": {},
   "outputs": [
    {
     "data": {
      "text/plain": [
       "contract_type\n",
       "1 year            65.061721\n",
       "2 year            60.722422\n",
       "month-to-month    66.389229\n",
       "Name: monthly_charges, dtype: float64"
      ]
     },
     "execution_count": 180,
     "metadata": {},
     "output_type": "execute_result"
    }
   ],
   "source": [
    "telco.groupby(by = 'contract_type').monthly_charges.mean()"
   ]
  },
  {
   "cell_type": "code",
   "execution_count": 181,
   "id": "849a2584",
   "metadata": {},
   "outputs": [
    {
     "data": {
      "text/plain": [
       "contract_type\n",
       "1 year            85.050904\n",
       "2 year            86.777083\n",
       "month-to-month    72.993720\n",
       "Name: monthly_charges, dtype: float64"
      ]
     },
     "execution_count": 181,
     "metadata": {},
     "output_type": "execute_result"
    }
   ],
   "source": [
    "churned.groupby(by = 'contract_type').monthly_charges.mean()"
   ]
  },
  {
   "cell_type": "code",
   "execution_count": 182,
   "id": "4492d764",
   "metadata": {},
   "outputs": [
    {
     "data": {
      "text/plain": [
       "contract_type\n",
       "1 year            62.528740\n",
       "2 year            59.964008\n",
       "month-to-month    61.462635\n",
       "Name: monthly_charges, dtype: float64"
      ]
     },
     "execution_count": 182,
     "metadata": {},
     "output_type": "execute_result"
    }
   ],
   "source": [
    "not_churned.groupby(by = 'contract_type').monthly_charges.mean()"
   ]
  },
  {
   "cell_type": "code",
   "execution_count": 185,
   "id": "ed12afd9",
   "metadata": {},
   "outputs": [
    {
     "data": {
      "text/plain": [
       "(10.0, 17.95614973262032)"
      ]
     },
     "execution_count": 185,
     "metadata": {},
     "output_type": "execute_result"
    }
   ],
   "source": [
    "# when do churning customers leave\n",
    "churned.tenure.median(), churned.tenure.mean()"
   ]
  },
  {
   "cell_type": "code",
   "execution_count": 186,
   "id": "d0b95f75",
   "metadata": {},
   "outputs": [
    {
     "data": {
      "text/plain": [
       "(38.0, 37.58447576752269)"
      ]
     },
     "execution_count": 186,
     "metadata": {},
     "output_type": "execute_result"
    }
   ],
   "source": [
    "not_churned.tenure.median(), not_churned.tenure.mean()"
   ]
  },
  {
   "cell_type": "code",
   "execution_count": 199,
   "id": "9941c564",
   "metadata": {},
   "outputs": [
    {
     "data": {
      "text/plain": [
       "30.0"
      ]
     },
     "execution_count": 199,
     "metadata": {},
     "output_type": "execute_result"
    }
   ],
   "source": [
    "telco[telco.internet_service == 2].tenure.median()\n"
   ]
  },
  {
   "cell_type": "code",
   "execution_count": 198,
   "id": "70af427a",
   "metadata": {},
   "outputs": [
    {
     "data": {
      "text/plain": [
       "12.0"
      ]
     },
     "execution_count": 198,
     "metadata": {},
     "output_type": "execute_result"
    }
   ],
   "source": [
    "churned[churned.internet_service == 2].tenure.median()"
   ]
  },
  {
   "cell_type": "code",
   "execution_count": 200,
   "id": "44a57fd7",
   "metadata": {},
   "outputs": [
    {
     "data": {
      "text/plain": [
       "46.0"
      ]
     },
     "execution_count": 200,
     "metadata": {},
     "output_type": "execute_result"
    }
   ],
   "source": [
    "not_churned[not_churned.internet_service == 2].tenure.median()"
   ]
  },
  {
   "cell_type": "code",
   "execution_count": 201,
   "id": "f2834879",
   "metadata": {},
   "outputs": [
    {
     "data": {
      "text/plain": [
       "29.0"
      ]
     },
     "execution_count": 201,
     "metadata": {},
     "output_type": "execute_result"
    }
   ],
   "source": [
    "telco[telco.internet_service == 1].tenure.median()"
   ]
  },
  {
   "cell_type": "code",
   "execution_count": 202,
   "id": "07831ca5",
   "metadata": {},
   "outputs": [
    {
     "data": {
      "text/plain": [
       "5.0"
      ]
     },
     "execution_count": 202,
     "metadata": {},
     "output_type": "execute_result"
    }
   ],
   "source": [
    "churned[churned.internet_service == 1].tenure.median()"
   ]
  },
  {
   "cell_type": "code",
   "execution_count": 203,
   "id": "622a0862",
   "metadata": {},
   "outputs": [
    {
     "data": {
      "text/plain": [
       "36.0"
      ]
     },
     "execution_count": 203,
     "metadata": {},
     "output_type": "execute_result"
    }
   ],
   "source": [
    "not_churned[not_churned.internet_service == 1].tenure.median()"
   ]
  },
  {
   "cell_type": "code",
   "execution_count": 204,
   "id": "1502d8c9",
   "metadata": {},
   "outputs": [
    {
     "data": {
      "text/plain": [
       "30.0"
      ]
     },
     "execution_count": 204,
     "metadata": {},
     "output_type": "execute_result"
    }
   ],
   "source": [
    "telco[telco.is_senior_citizen == 'Yes'].tenure.median()"
   ]
  },
  {
   "cell_type": "code",
   "execution_count": 205,
   "id": "7c2a52f1",
   "metadata": {},
   "outputs": [
    {
     "data": {
      "text/plain": [
       "30.0"
      ]
     },
     "execution_count": 205,
     "metadata": {},
     "output_type": "execute_result"
    }
   ],
   "source": [
    "telco[(telco.is_senior_citizen == 'Yes') & (telco.internet_service == 2)].tenure.median()"
   ]
  },
  {
   "cell_type": "code",
   "execution_count": 217,
   "id": "34101442",
   "metadata": {},
   "outputs": [
    {
     "data": {
      "text/plain": [
       "30.0"
      ]
     },
     "execution_count": 217,
     "metadata": {},
     "output_type": "execute_result"
    }
   ],
   "source": [
    "telco[(telco.is_senior_citizen == 'Yes') & (telco.internet_service == 1)].tenure.median()"
   ]
  },
  {
   "cell_type": "code",
   "execution_count": 218,
   "id": "ceac067c",
   "metadata": {},
   "outputs": [
    {
     "data": {
      "text/plain": [
       "6.5"
      ]
     },
     "execution_count": 218,
     "metadata": {},
     "output_type": "execute_result"
    }
   ],
   "source": [
    "churned[(churned.is_senior_citizen == 'Yes') & (churned.internet_service == 1)].tenure.median()"
   ]
  },
  {
   "cell_type": "code",
   "execution_count": 219,
   "id": "3512a277",
   "metadata": {},
   "outputs": [
    {
     "data": {
      "text/plain": [
       "16.0"
      ]
     },
     "execution_count": 219,
     "metadata": {},
     "output_type": "execute_result"
    }
   ],
   "source": [
    "churned[(churned.is_senior_citizen == 'Yes') & (churned.internet_service == 2)].tenure.median()"
   ]
  },
  {
   "cell_type": "code",
   "execution_count": 220,
   "id": "58072def",
   "metadata": {},
   "outputs": [
    {
     "data": {
      "text/plain": [
       "45.0"
      ]
     },
     "execution_count": 220,
     "metadata": {},
     "output_type": "execute_result"
    }
   ],
   "source": [
    "not_churned[(not_churned.is_senior_citizen == 'Yes') & (not_churned.internet_service == 1)].tenure.median()"
   ]
  },
  {
   "cell_type": "code",
   "execution_count": 221,
   "id": "a9afa535",
   "metadata": {},
   "outputs": [
    {
     "data": {
      "text/plain": [
       "45.0"
      ]
     },
     "execution_count": 221,
     "metadata": {},
     "output_type": "execute_result"
    }
   ],
   "source": [
    "not_churned[(not_churned.is_senior_citizen == 'Yes') & (not_churned.internet_service == 2)].tenure.median()"
   ]
  },
  {
   "cell_type": "code",
   "execution_count": 222,
   "id": "e5958acd",
   "metadata": {},
   "outputs": [
    {
     "data": {
      "text/plain": [
       "28.0"
      ]
     },
     "execution_count": 222,
     "metadata": {},
     "output_type": "execute_result"
    }
   ],
   "source": [
    "telco[(telco.is_senior_citizen == 'Yes') & (telco.phone_service == 0)].tenure.median()"
   ]
  },
  {
   "cell_type": "code",
   "execution_count": 223,
   "id": "14e90bbc",
   "metadata": {},
   "outputs": [
    {
     "data": {
      "text/plain": [
       "15.0"
      ]
     },
     "execution_count": 223,
     "metadata": {},
     "output_type": "execute_result"
    }
   ],
   "source": [
    "telco[(telco.is_senior_citizen == 'Yes') & (telco.phone_service == 1)].tenure.median()"
   ]
  },
  {
   "cell_type": "code",
   "execution_count": 224,
   "id": "06fcd3a4",
   "metadata": {},
   "outputs": [
    {
     "data": {
      "text/plain": [
       "41.0"
      ]
     },
     "execution_count": 224,
     "metadata": {},
     "output_type": "execute_result"
    }
   ],
   "source": [
    "telco[(telco.is_senior_citizen == 'Yes') & (telco.phone_service == 2)].tenure.median()"
   ]
  },
  {
   "cell_type": "code",
   "execution_count": null,
   "id": "c43fed68",
   "metadata": {},
   "outputs": [],
   "source": []
  },
  {
   "cell_type": "code",
   "execution_count": null,
   "id": "4dca8658",
   "metadata": {},
   "outputs": [],
   "source": []
  }
 ],
 "metadata": {
  "kernelspec": {
   "display_name": "Python 3 (ipykernel)",
   "language": "python",
   "name": "python3"
  },
  "language_info": {
   "codemirror_mode": {
    "name": "ipython",
    "version": 3
   },
   "file_extension": ".py",
   "mimetype": "text/x-python",
   "name": "python",
   "nbconvert_exporter": "python",
   "pygments_lexer": "ipython3",
   "version": "3.9.7"
  }
 },
 "nbformat": 4,
 "nbformat_minor": 5
}
